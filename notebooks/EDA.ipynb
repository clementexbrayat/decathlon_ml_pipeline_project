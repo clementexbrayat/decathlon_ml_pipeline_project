{
 "cells": [
  {
   "cell_type": "code",
   "execution_count": 21,
   "metadata": {},
   "outputs": [],
   "source": [
    "import pandas as pd\n",
    "import matplotlib.pyplot as plt\n",
    "import plotly.express as px\n",
    "import seaborn as sns"
   ]
  },
  {
   "cell_type": "code",
   "execution_count": 6,
   "metadata": {},
   "outputs": [],
   "source": [
    "bu_feat_df = pd.read_csv('data-test-mle/test_mle/bu_feat.csv.gz', compression='gzip',)"
   ]
  },
  {
   "cell_type": "code",
   "execution_count": 7,
   "metadata": {},
   "outputs": [
    {
     "data": {
      "text/html": [
       "<div>\n",
       "<style scoped>\n",
       "    .dataframe tbody tr th:only-of-type {\n",
       "        vertical-align: middle;\n",
       "    }\n",
       "\n",
       "    .dataframe tbody tr th {\n",
       "        vertical-align: top;\n",
       "    }\n",
       "\n",
       "    .dataframe thead th {\n",
       "        text-align: right;\n",
       "    }\n",
       "</style>\n",
       "<table border=\"1\" class=\"dataframe\">\n",
       "  <thead>\n",
       "    <tr style=\"text-align: right;\">\n",
       "      <th></th>\n",
       "      <th>but_num_business_unit</th>\n",
       "      <th>but_postcode</th>\n",
       "      <th>but_latitude</th>\n",
       "      <th>but_longitude</th>\n",
       "      <th>but_region_idr_region</th>\n",
       "      <th>zod_idr_zone_dgr</th>\n",
       "    </tr>\n",
       "  </thead>\n",
       "  <tbody>\n",
       "    <tr>\n",
       "      <th>0</th>\n",
       "      <td>1609</td>\n",
       "      <td>80100</td>\n",
       "      <td>50.096306</td>\n",
       "      <td>1.867220</td>\n",
       "      <td>69</td>\n",
       "      <td>4</td>\n",
       "    </tr>\n",
       "    <tr>\n",
       "      <th>1</th>\n",
       "      <td>1995</td>\n",
       "      <td>95700</td>\n",
       "      <td>48.991087</td>\n",
       "      <td>2.520903</td>\n",
       "      <td>3</td>\n",
       "      <td>6</td>\n",
       "    </tr>\n",
       "    <tr>\n",
       "      <th>2</th>\n",
       "      <td>1800</td>\n",
       "      <td>73210</td>\n",
       "      <td>45.552933</td>\n",
       "      <td>6.644736</td>\n",
       "      <td>51</td>\n",
       "      <td>4</td>\n",
       "    </tr>\n",
       "    <tr>\n",
       "      <th>3</th>\n",
       "      <td>238</td>\n",
       "      <td>47550</td>\n",
       "      <td>44.175370</td>\n",
       "      <td>0.638869</td>\n",
       "      <td>134</td>\n",
       "      <td>10</td>\n",
       "    </tr>\n",
       "    <tr>\n",
       "      <th>4</th>\n",
       "      <td>201</td>\n",
       "      <td>13546</td>\n",
       "      <td>43.508418</td>\n",
       "      <td>5.406423</td>\n",
       "      <td>71</td>\n",
       "      <td>10</td>\n",
       "    </tr>\n",
       "    <tr>\n",
       "      <th>...</th>\n",
       "      <td>...</td>\n",
       "      <td>...</td>\n",
       "      <td>...</td>\n",
       "      <td>...</td>\n",
       "      <td>...</td>\n",
       "      <td>...</td>\n",
       "    </tr>\n",
       "    <tr>\n",
       "      <th>321</th>\n",
       "      <td>52</td>\n",
       "      <td>30900</td>\n",
       "      <td>43.808731</td>\n",
       "      <td>4.367886</td>\n",
       "      <td>6</td>\n",
       "      <td>10</td>\n",
       "    </tr>\n",
       "    <tr>\n",
       "      <th>322</th>\n",
       "      <td>1409</td>\n",
       "      <td>83600</td>\n",
       "      <td>43.423641</td>\n",
       "      <td>6.753685</td>\n",
       "      <td>55</td>\n",
       "      <td>10</td>\n",
       "    </tr>\n",
       "    <tr>\n",
       "      <th>323</th>\n",
       "      <td>379</td>\n",
       "      <td>31621</td>\n",
       "      <td>43.764840</td>\n",
       "      <td>1.375426</td>\n",
       "      <td>33</td>\n",
       "      <td>3</td>\n",
       "    </tr>\n",
       "    <tr>\n",
       "      <th>324</th>\n",
       "      <td>436</td>\n",
       "      <td>14630</td>\n",
       "      <td>49.160428</td>\n",
       "      <td>-0.286385</td>\n",
       "      <td>33</td>\n",
       "      <td>3</td>\n",
       "    </tr>\n",
       "    <tr>\n",
       "      <th>325</th>\n",
       "      <td>329</td>\n",
       "      <td>44980</td>\n",
       "      <td>47.272346</td>\n",
       "      <td>-1.472422</td>\n",
       "      <td>33</td>\n",
       "      <td>3</td>\n",
       "    </tr>\n",
       "  </tbody>\n",
       "</table>\n",
       "<p>326 rows × 6 columns</p>\n",
       "</div>"
      ],
      "text/plain": [
       "     but_num_business_unit  but_postcode  but_latitude  but_longitude  \\\n",
       "0                     1609         80100     50.096306       1.867220   \n",
       "1                     1995         95700     48.991087       2.520903   \n",
       "2                     1800         73210     45.552933       6.644736   \n",
       "3                      238         47550     44.175370       0.638869   \n",
       "4                      201         13546     43.508418       5.406423   \n",
       "..                     ...           ...           ...            ...   \n",
       "321                     52         30900     43.808731       4.367886   \n",
       "322                   1409         83600     43.423641       6.753685   \n",
       "323                    379         31621     43.764840       1.375426   \n",
       "324                    436         14630     49.160428      -0.286385   \n",
       "325                    329         44980     47.272346      -1.472422   \n",
       "\n",
       "     but_region_idr_region  zod_idr_zone_dgr  \n",
       "0                       69                 4  \n",
       "1                        3                 6  \n",
       "2                       51                 4  \n",
       "3                      134                10  \n",
       "4                       71                10  \n",
       "..                     ...               ...  \n",
       "321                      6                10  \n",
       "322                     55                10  \n",
       "323                     33                 3  \n",
       "324                     33                 3  \n",
       "325                     33                 3  \n",
       "\n",
       "[326 rows x 6 columns]"
      ]
     },
     "execution_count": 7,
     "metadata": {},
     "output_type": "execute_result"
    }
   ],
   "source": [
    "bu_feat_df"
   ]
  },
  {
   "cell_type": "code",
   "execution_count": 71,
   "metadata": {},
   "outputs": [
    {
     "data": {
      "text/html": [
       "<div>\n",
       "<style scoped>\n",
       "    .dataframe tbody tr th:only-of-type {\n",
       "        vertical-align: middle;\n",
       "    }\n",
       "\n",
       "    .dataframe tbody tr th {\n",
       "        vertical-align: top;\n",
       "    }\n",
       "\n",
       "    .dataframe thead th {\n",
       "        text-align: right;\n",
       "    }\n",
       "</style>\n",
       "<table border=\"1\" class=\"dataframe\">\n",
       "  <thead>\n",
       "    <tr style=\"text-align: right;\">\n",
       "      <th></th>\n",
       "      <th>day_id</th>\n",
       "      <th>but_num_business_unit</th>\n",
       "      <th>dpt_num_department</th>\n",
       "      <th>turnover</th>\n",
       "    </tr>\n",
       "  </thead>\n",
       "  <tbody>\n",
       "    <tr>\n",
       "      <th>0</th>\n",
       "      <td>2017-09-30</td>\n",
       "      <td>64</td>\n",
       "      <td>127</td>\n",
       "      <td>580.308443</td>\n",
       "    </tr>\n",
       "    <tr>\n",
       "      <th>1</th>\n",
       "      <td>2017-09-30</td>\n",
       "      <td>119</td>\n",
       "      <td>127</td>\n",
       "      <td>1512.995918</td>\n",
       "    </tr>\n",
       "    <tr>\n",
       "      <th>2</th>\n",
       "      <td>2017-09-30</td>\n",
       "      <td>4</td>\n",
       "      <td>88</td>\n",
       "      <td>668.593556</td>\n",
       "    </tr>\n",
       "    <tr>\n",
       "      <th>3</th>\n",
       "      <td>2017-09-30</td>\n",
       "      <td>425</td>\n",
       "      <td>127</td>\n",
       "      <td>0.000000</td>\n",
       "    </tr>\n",
       "    <tr>\n",
       "      <th>4</th>\n",
       "      <td>2017-09-30</td>\n",
       "      <td>513</td>\n",
       "      <td>73</td>\n",
       "      <td>0.000000</td>\n",
       "    </tr>\n",
       "    <tr>\n",
       "      <th>...</th>\n",
       "      <td>...</td>\n",
       "      <td>...</td>\n",
       "      <td>...</td>\n",
       "      <td>...</td>\n",
       "    </tr>\n",
       "    <tr>\n",
       "      <th>277714</th>\n",
       "      <td>2012-12-29</td>\n",
       "      <td>131</td>\n",
       "      <td>73</td>\n",
       "      <td>1.461821</td>\n",
       "    </tr>\n",
       "    <tr>\n",
       "      <th>277715</th>\n",
       "      <td>2012-12-29</td>\n",
       "      <td>237</td>\n",
       "      <td>127</td>\n",
       "      <td>759.283046</td>\n",
       "    </tr>\n",
       "    <tr>\n",
       "      <th>277716</th>\n",
       "      <td>2012-12-29</td>\n",
       "      <td>129</td>\n",
       "      <td>117</td>\n",
       "      <td>1716.399152</td>\n",
       "    </tr>\n",
       "    <tr>\n",
       "      <th>277717</th>\n",
       "      <td>2012-12-29</td>\n",
       "      <td>468</td>\n",
       "      <td>127</td>\n",
       "      <td>1307.357057</td>\n",
       "    </tr>\n",
       "    <tr>\n",
       "      <th>277718</th>\n",
       "      <td>2012-12-29</td>\n",
       "      <td>54</td>\n",
       "      <td>73</td>\n",
       "      <td>53.337413</td>\n",
       "    </tr>\n",
       "  </tbody>\n",
       "</table>\n",
       "<p>277719 rows × 4 columns</p>\n",
       "</div>"
      ],
      "text/plain": [
       "            day_id  but_num_business_unit  dpt_num_department     turnover\n",
       "0       2017-09-30                     64                 127   580.308443\n",
       "1       2017-09-30                    119                 127  1512.995918\n",
       "2       2017-09-30                      4                  88   668.593556\n",
       "3       2017-09-30                    425                 127     0.000000\n",
       "4       2017-09-30                    513                  73     0.000000\n",
       "...            ...                    ...                 ...          ...\n",
       "277714  2012-12-29                    131                  73     1.461821\n",
       "277715  2012-12-29                    237                 127   759.283046\n",
       "277716  2012-12-29                    129                 117  1716.399152\n",
       "277717  2012-12-29                    468                 127  1307.357057\n",
       "277718  2012-12-29                     54                  73    53.337413\n",
       "\n",
       "[277719 rows x 4 columns]"
      ]
     },
     "execution_count": 71,
     "metadata": {},
     "output_type": "execute_result"
    }
   ],
   "source": [
    "train_df = pd.read_csv('data-test-mle/test_mle/train.csv.gz', nrows=10000000, compression='gzip',)\n",
    "train_df"
   ]
  },
  {
   "cell_type": "code",
   "execution_count": 49,
   "metadata": {},
   "outputs": [
    {
     "data": {
      "text/html": [
       "<div>\n",
       "<style scoped>\n",
       "    .dataframe tbody tr th:only-of-type {\n",
       "        vertical-align: middle;\n",
       "    }\n",
       "\n",
       "    .dataframe tbody tr th {\n",
       "        vertical-align: top;\n",
       "    }\n",
       "\n",
       "    .dataframe thead th {\n",
       "        text-align: right;\n",
       "    }\n",
       "</style>\n",
       "<table border=\"1\" class=\"dataframe\">\n",
       "  <thead>\n",
       "    <tr style=\"text-align: right;\">\n",
       "      <th></th>\n",
       "      <th>dpt_num_department</th>\n",
       "      <th>turnover</th>\n",
       "    </tr>\n",
       "  </thead>\n",
       "  <tbody>\n",
       "    <tr>\n",
       "      <th>0</th>\n",
       "      <td>73</td>\n",
       "      <td>1.974491e+06</td>\n",
       "    </tr>\n",
       "    <tr>\n",
       "      <th>1</th>\n",
       "      <td>88</td>\n",
       "      <td>5.696284e+06</td>\n",
       "    </tr>\n",
       "    <tr>\n",
       "      <th>2</th>\n",
       "      <td>117</td>\n",
       "      <td>6.535299e+06</td>\n",
       "    </tr>\n",
       "    <tr>\n",
       "      <th>3</th>\n",
       "      <td>127</td>\n",
       "      <td>3.378005e+07</td>\n",
       "    </tr>\n",
       "  </tbody>\n",
       "</table>\n",
       "</div>"
      ],
      "text/plain": [
       "   dpt_num_department      turnover\n",
       "0                  73  1.974491e+06\n",
       "1                  88  5.696284e+06\n",
       "2                 117  6.535299e+06\n",
       "3                 127  3.378005e+07"
      ]
     },
     "execution_count": 49,
     "metadata": {},
     "output_type": "execute_result"
    }
   ],
   "source": [
    "train_df[(train_df['day_id']>='2016-01-01') & (train_df['day_id']<'2017-01-01')].groupby('dpt_num_department', as_index=False).turnover.sum()"
   ]
  },
  {
   "cell_type": "code",
   "execution_count": 86,
   "metadata": {},
   "outputs": [
    {
     "data": {
      "text/html": [
       "<div>\n",
       "<style scoped>\n",
       "    .dataframe tbody tr th:only-of-type {\n",
       "        vertical-align: middle;\n",
       "    }\n",
       "\n",
       "    .dataframe tbody tr th {\n",
       "        vertical-align: top;\n",
       "    }\n",
       "\n",
       "    .dataframe thead th {\n",
       "        text-align: right;\n",
       "    }\n",
       "</style>\n",
       "<table border=\"1\" class=\"dataframe\">\n",
       "  <thead>\n",
       "    <tr style=\"text-align: right;\">\n",
       "      <th></th>\n",
       "      <th>day_id</th>\n",
       "      <th>but_num_business_unit</th>\n",
       "      <th>dpt_num_department</th>\n",
       "      <th>turnover</th>\n",
       "    </tr>\n",
       "  </thead>\n",
       "  <tbody>\n",
       "    <tr>\n",
       "      <th>0</th>\n",
       "      <td>2017-09-30</td>\n",
       "      <td>64</td>\n",
       "      <td>127</td>\n",
       "      <td>580.308443</td>\n",
       "    </tr>\n",
       "    <tr>\n",
       "      <th>1</th>\n",
       "      <td>2017-09-30</td>\n",
       "      <td>119</td>\n",
       "      <td>127</td>\n",
       "      <td>1512.995918</td>\n",
       "    </tr>\n",
       "    <tr>\n",
       "      <th>2</th>\n",
       "      <td>2017-09-30</td>\n",
       "      <td>4</td>\n",
       "      <td>88</td>\n",
       "      <td>668.593556</td>\n",
       "    </tr>\n",
       "    <tr>\n",
       "      <th>3</th>\n",
       "      <td>2017-09-30</td>\n",
       "      <td>425</td>\n",
       "      <td>127</td>\n",
       "      <td>0.000000</td>\n",
       "    </tr>\n",
       "    <tr>\n",
       "      <th>4</th>\n",
       "      <td>2017-09-30</td>\n",
       "      <td>513</td>\n",
       "      <td>73</td>\n",
       "      <td>0.000000</td>\n",
       "    </tr>\n",
       "    <tr>\n",
       "      <th>...</th>\n",
       "      <td>...</td>\n",
       "      <td>...</td>\n",
       "      <td>...</td>\n",
       "      <td>...</td>\n",
       "    </tr>\n",
       "    <tr>\n",
       "      <th>277714</th>\n",
       "      <td>2012-12-29</td>\n",
       "      <td>131</td>\n",
       "      <td>73</td>\n",
       "      <td>1.461821</td>\n",
       "    </tr>\n",
       "    <tr>\n",
       "      <th>277715</th>\n",
       "      <td>2012-12-29</td>\n",
       "      <td>237</td>\n",
       "      <td>127</td>\n",
       "      <td>759.283046</td>\n",
       "    </tr>\n",
       "    <tr>\n",
       "      <th>277716</th>\n",
       "      <td>2012-12-29</td>\n",
       "      <td>129</td>\n",
       "      <td>117</td>\n",
       "      <td>1716.399152</td>\n",
       "    </tr>\n",
       "    <tr>\n",
       "      <th>277717</th>\n",
       "      <td>2012-12-29</td>\n",
       "      <td>468</td>\n",
       "      <td>127</td>\n",
       "      <td>1307.357057</td>\n",
       "    </tr>\n",
       "    <tr>\n",
       "      <th>277718</th>\n",
       "      <td>2012-12-29</td>\n",
       "      <td>54</td>\n",
       "      <td>73</td>\n",
       "      <td>53.337413</td>\n",
       "    </tr>\n",
       "  </tbody>\n",
       "</table>\n",
       "<p>277719 rows × 4 columns</p>\n",
       "</div>"
      ],
      "text/plain": [
       "           day_id  but_num_business_unit  dpt_num_department     turnover\n",
       "0      2017-09-30                     64                 127   580.308443\n",
       "1      2017-09-30                    119                 127  1512.995918\n",
       "2      2017-09-30                      4                  88   668.593556\n",
       "3      2017-09-30                    425                 127     0.000000\n",
       "4      2017-09-30                    513                  73     0.000000\n",
       "...           ...                    ...                 ...          ...\n",
       "277714 2012-12-29                    131                  73     1.461821\n",
       "277715 2012-12-29                    237                 127   759.283046\n",
       "277716 2012-12-29                    129                 117  1716.399152\n",
       "277717 2012-12-29                    468                 127  1307.357057\n",
       "277718 2012-12-29                     54                  73    53.337413\n",
       "\n",
       "[277719 rows x 4 columns]"
      ]
     },
     "execution_count": 86,
     "metadata": {},
     "output_type": "execute_result"
    }
   ],
   "source": [
    "train_df"
   ]
  },
  {
   "cell_type": "code",
   "execution_count": 98,
   "metadata": {},
   "outputs": [],
   "source": [
    "weekly_turnover_df = train_df.groupby(['day_id', 'dpt_num_department'], as_index=False).turnover.sum()\n",
    "weekly_turnover_df['day_id'] = pd.to_datetime(weekly_turnover_df['day_id'])  # Ensure day_id is datetime"
   ]
  },
  {
   "cell_type": "code",
   "execution_count": 99,
   "metadata": {},
   "outputs": [
    {
     "data": {
      "text/html": [
       "<div>\n",
       "<style scoped>\n",
       "    .dataframe tbody tr th:only-of-type {\n",
       "        vertical-align: middle;\n",
       "    }\n",
       "\n",
       "    .dataframe tbody tr th {\n",
       "        vertical-align: top;\n",
       "    }\n",
       "\n",
       "    .dataframe thead th {\n",
       "        text-align: right;\n",
       "    }\n",
       "</style>\n",
       "<table border=\"1\" class=\"dataframe\">\n",
       "  <thead>\n",
       "    <tr style=\"text-align: right;\">\n",
       "      <th></th>\n",
       "      <th>day_id</th>\n",
       "      <th>dpt_num_department</th>\n",
       "      <th>turnover</th>\n",
       "    </tr>\n",
       "  </thead>\n",
       "  <tbody>\n",
       "    <tr>\n",
       "      <th>0</th>\n",
       "      <td>2012-12-29</td>\n",
       "      <td>73</td>\n",
       "      <td>1424.297147</td>\n",
       "    </tr>\n",
       "    <tr>\n",
       "      <th>1</th>\n",
       "      <td>2012-12-30</td>\n",
       "      <td>73</td>\n",
       "      <td>1424.297147</td>\n",
       "    </tr>\n",
       "    <tr>\n",
       "      <th>2</th>\n",
       "      <td>2012-12-31</td>\n",
       "      <td>73</td>\n",
       "      <td>1424.297147</td>\n",
       "    </tr>\n",
       "    <tr>\n",
       "      <th>3</th>\n",
       "      <td>2013-01-01</td>\n",
       "      <td>73</td>\n",
       "      <td>1424.297147</td>\n",
       "    </tr>\n",
       "    <tr>\n",
       "      <th>4</th>\n",
       "      <td>2013-01-02</td>\n",
       "      <td>73</td>\n",
       "      <td>1424.297147</td>\n",
       "    </tr>\n",
       "    <tr>\n",
       "      <th>...</th>\n",
       "      <td>...</td>\n",
       "      <td>...</td>\n",
       "      <td>...</td>\n",
       "    </tr>\n",
       "    <tr>\n",
       "      <th>6967</th>\n",
       "      <td>2017-10-02</td>\n",
       "      <td>127</td>\n",
       "      <td>32306.530100</td>\n",
       "    </tr>\n",
       "    <tr>\n",
       "      <th>6968</th>\n",
       "      <td>2017-10-03</td>\n",
       "      <td>127</td>\n",
       "      <td>32306.530100</td>\n",
       "    </tr>\n",
       "    <tr>\n",
       "      <th>6969</th>\n",
       "      <td>2017-10-04</td>\n",
       "      <td>127</td>\n",
       "      <td>32306.530100</td>\n",
       "    </tr>\n",
       "    <tr>\n",
       "      <th>6970</th>\n",
       "      <td>2017-10-05</td>\n",
       "      <td>127</td>\n",
       "      <td>32306.530100</td>\n",
       "    </tr>\n",
       "    <tr>\n",
       "      <th>6971</th>\n",
       "      <td>2017-10-06</td>\n",
       "      <td>127</td>\n",
       "      <td>32306.530100</td>\n",
       "    </tr>\n",
       "  </tbody>\n",
       "</table>\n",
       "<p>6972 rows × 3 columns</p>\n",
       "</div>"
      ],
      "text/plain": [
       "         day_id  dpt_num_department      turnover\n",
       "0    2012-12-29                  73   1424.297147\n",
       "1    2012-12-30                  73   1424.297147\n",
       "2    2012-12-31                  73   1424.297147\n",
       "3    2013-01-01                  73   1424.297147\n",
       "4    2013-01-02                  73   1424.297147\n",
       "...         ...                 ...           ...\n",
       "6967 2017-10-02                 127  32306.530100\n",
       "6968 2017-10-03                 127  32306.530100\n",
       "6969 2017-10-04                 127  32306.530100\n",
       "6970 2017-10-05                 127  32306.530100\n",
       "6971 2017-10-06                 127  32306.530100\n",
       "\n",
       "[6972 rows x 3 columns]"
      ]
     },
     "execution_count": 99,
     "metadata": {},
     "output_type": "execute_result"
    }
   ],
   "source": [
    "# Create a new DataFrame with one row per day\n",
    "expanded_rows = []\n",
    "\n",
    "for index, row in weekly_turnover_df.iterrows():\n",
    "    # Create a range of days (7 days) from the day_id\n",
    "    days = pd.date_range(row['day_id'], periods=7)\n",
    "    \n",
    "    # Repeat the department and turnover for each day in the range\n",
    "    for day in days:\n",
    "        expanded_rows.append({\n",
    "            'day_id': day,\n",
    "            'dpt_num_department': row['dpt_num_department'],\n",
    "            'turnover': row['turnover']/7\n",
    "        })\n",
    "\n",
    "# Convert the list of expanded rows into a DataFrame\n",
    "daily_turnover_df = pd.DataFrame(expanded_rows)\n",
    "\n",
    "# Display the expanded dataframe\n",
    "daily_turnover_df"
   ]
  },
  {
   "cell_type": "code",
   "execution_count": 100,
   "metadata": {},
   "outputs": [],
   "source": [
    "daily_turnover_df['year_month'] = daily_turnover_df['day_id'].dt.to_period('M')\n",
    "\n",
    "# Group by department and month, then sum the turnover\n",
    "monthly_turnover = daily_turnover_df.groupby(['year_month', 'dpt_num_department'])['turnover'].sum().reset_index()"
   ]
  },
  {
   "cell_type": "code",
   "execution_count": 101,
   "metadata": {},
   "outputs": [
    {
     "data": {
      "text/html": [
       "<div>\n",
       "<style scoped>\n",
       "    .dataframe tbody tr th:only-of-type {\n",
       "        vertical-align: middle;\n",
       "    }\n",
       "\n",
       "    .dataframe tbody tr th {\n",
       "        vertical-align: top;\n",
       "    }\n",
       "\n",
       "    .dataframe thead th {\n",
       "        text-align: right;\n",
       "    }\n",
       "</style>\n",
       "<table border=\"1\" class=\"dataframe\">\n",
       "  <thead>\n",
       "    <tr style=\"text-align: right;\">\n",
       "      <th></th>\n",
       "      <th>year_month</th>\n",
       "      <th>dpt_num_department</th>\n",
       "      <th>turnover</th>\n",
       "    </tr>\n",
       "  </thead>\n",
       "  <tbody>\n",
       "    <tr>\n",
       "      <th>0</th>\n",
       "      <td>2012-12</td>\n",
       "      <td>73</td>\n",
       "      <td>4.272891e+03</td>\n",
       "    </tr>\n",
       "    <tr>\n",
       "      <th>1</th>\n",
       "      <td>2012-12</td>\n",
       "      <td>88</td>\n",
       "      <td>3.370403e+04</td>\n",
       "    </tr>\n",
       "    <tr>\n",
       "      <th>2</th>\n",
       "      <td>2012-12</td>\n",
       "      <td>117</td>\n",
       "      <td>1.815631e+05</td>\n",
       "    </tr>\n",
       "    <tr>\n",
       "      <th>3</th>\n",
       "      <td>2012-12</td>\n",
       "      <td>127</td>\n",
       "      <td>1.064099e+05</td>\n",
       "    </tr>\n",
       "    <tr>\n",
       "      <th>4</th>\n",
       "      <td>2013-01</td>\n",
       "      <td>73</td>\n",
       "      <td>5.223764e+04</td>\n",
       "    </tr>\n",
       "    <tr>\n",
       "      <th>...</th>\n",
       "      <td>...</td>\n",
       "      <td>...</td>\n",
       "      <td>...</td>\n",
       "    </tr>\n",
       "    <tr>\n",
       "      <th>231</th>\n",
       "      <td>2017-09</td>\n",
       "      <td>127</td>\n",
       "      <td>1.289318e+06</td>\n",
       "    </tr>\n",
       "    <tr>\n",
       "      <th>232</th>\n",
       "      <td>2017-10</td>\n",
       "      <td>73</td>\n",
       "      <td>1.349337e+04</td>\n",
       "    </tr>\n",
       "    <tr>\n",
       "      <th>233</th>\n",
       "      <td>2017-10</td>\n",
       "      <td>88</td>\n",
       "      <td>9.826977e+04</td>\n",
       "    </tr>\n",
       "    <tr>\n",
       "      <th>234</th>\n",
       "      <td>2017-10</td>\n",
       "      <td>117</td>\n",
       "      <td>7.712877e+03</td>\n",
       "    </tr>\n",
       "    <tr>\n",
       "      <th>235</th>\n",
       "      <td>2017-10</td>\n",
       "      <td>127</td>\n",
       "      <td>1.938392e+05</td>\n",
       "    </tr>\n",
       "  </tbody>\n",
       "</table>\n",
       "<p>236 rows × 3 columns</p>\n",
       "</div>"
      ],
      "text/plain": [
       "    year_month  dpt_num_department      turnover\n",
       "0      2012-12                  73  4.272891e+03\n",
       "1      2012-12                  88  3.370403e+04\n",
       "2      2012-12                 117  1.815631e+05\n",
       "3      2012-12                 127  1.064099e+05\n",
       "4      2013-01                  73  5.223764e+04\n",
       "..         ...                 ...           ...\n",
       "231    2017-09                 127  1.289318e+06\n",
       "232    2017-10                  73  1.349337e+04\n",
       "233    2017-10                  88  9.826977e+04\n",
       "234    2017-10                 117  7.712877e+03\n",
       "235    2017-10                 127  1.938392e+05\n",
       "\n",
       "[236 rows x 3 columns]"
      ]
     },
     "execution_count": 101,
     "metadata": {},
     "output_type": "execute_result"
    }
   ],
   "source": [
    "monthly_turnover"
   ]
  },
  {
   "cell_type": "code",
   "execution_count": 102,
   "metadata": {},
   "outputs": [],
   "source": [
    "monthly_turnover['year_month'] = monthly_turnover['year_month'].astype(str)"
   ]
  },
  {
   "cell_type": "code",
   "execution_count": 103,
   "metadata": {},
   "outputs": [
    {
     "data": {
      "application/vnd.plotly.v1+json": {
       "config": {
        "plotlyServerURL": "https://plot.ly"
       },
       "data": [
        {
         "hovertemplate": "dpt_num_department=73<br>year_month=%{x}<br>turnover=%{y}<extra></extra>",
         "legendgroup": "73",
         "line": {
          "color": "#636efa",
          "dash": "solid"
         },
         "marker": {
          "symbol": "circle"
         },
         "mode": "markers+lines",
         "name": "73",
         "orientation": "v",
         "showlegend": true,
         "type": "scatter",
         "x": [
          "2012-12",
          "2013-01",
          "2013-02",
          "2013-03",
          "2013-04",
          "2013-05",
          "2013-06",
          "2013-07",
          "2013-08",
          "2013-09",
          "2013-10",
          "2013-11",
          "2013-12",
          "2014-01",
          "2014-02",
          "2014-03",
          "2014-04",
          "2014-05",
          "2014-06",
          "2014-07",
          "2014-08",
          "2014-09",
          "2014-10",
          "2014-11",
          "2014-12",
          "2015-01",
          "2015-02",
          "2015-03",
          "2015-04",
          "2015-05",
          "2015-06",
          "2015-07",
          "2015-08",
          "2015-09",
          "2015-10",
          "2015-11",
          "2015-12",
          "2016-01",
          "2016-02",
          "2016-03",
          "2016-04",
          "2016-05",
          "2016-06",
          "2016-07",
          "2016-08",
          "2016-09",
          "2016-10",
          "2016-11",
          "2016-12",
          "2017-01",
          "2017-02",
          "2017-03",
          "2017-04",
          "2017-05",
          "2017-06",
          "2017-07",
          "2017-08",
          "2017-09",
          "2017-10"
         ],
         "xaxis": "x",
         "y": [
          4272.891440043737,
          52237.640002420645,
          33827.6433498472,
          40799.56721857347,
          65794.54893062798,
          87743.7854694418,
          79395.36406528362,
          100671.24856799367,
          72045.27015135992,
          74049.7067898862,
          68452.67310231108,
          65051.21289679395,
          48033.10797418029,
          51526.13136171886,
          39119.85103442211,
          46728.933644421304,
          70240.36168494631,
          92149.45241655718,
          89250.52655863814,
          117201.26608381601,
          102617.14872934647,
          66577.22901806359,
          80959.0634961446,
          65935.07889392163,
          60610.45552540032,
          56444.068684474594,
          39663.29860557134,
          50393.7577196732,
          83403.18976841816,
          110055.66340006031,
          95798.65416428127,
          127974.20343796186,
          118564.80254822079,
          98370.64736379005,
          80636.63127142978,
          54560.50562061118,
          60037.59124639706,
          122762.93422181769,
          95508.62075578311,
          103894.58190994902,
          177122.7820490228,
          199254.8528311086,
          221548.00326084334,
          278590.25538072916,
          216750.243936442,
          143488.61955414506,
          161937.96861348514,
          128765.46104148518,
          110656.21748196191,
          64336.27657224266,
          45280.777468133325,
          54341.08448364633,
          86875.4761827349,
          95826.19738055892,
          99213.33257573942,
          132915.44566834066,
          119392.46004873488,
          92395.8982098122,
          13493.367687174132
         ],
         "yaxis": "y"
        },
        {
         "hovertemplate": "dpt_num_department=88<br>year_month=%{x}<br>turnover=%{y}<extra></extra>",
         "legendgroup": "88",
         "line": {
          "color": "#EF553B",
          "dash": "solid"
         },
         "marker": {
          "symbol": "circle"
         },
         "mode": "markers+lines",
         "name": "88",
         "orientation": "v",
         "showlegend": true,
         "type": "scatter",
         "x": [
          "2012-12",
          "2013-01",
          "2013-02",
          "2013-03",
          "2013-04",
          "2013-05",
          "2013-06",
          "2013-07",
          "2013-08",
          "2013-09",
          "2013-10",
          "2013-11",
          "2013-12",
          "2014-01",
          "2014-02",
          "2014-03",
          "2014-04",
          "2014-05",
          "2014-06",
          "2014-07",
          "2014-08",
          "2014-09",
          "2014-10",
          "2014-11",
          "2014-12",
          "2015-01",
          "2015-02",
          "2015-03",
          "2015-04",
          "2015-05",
          "2015-06",
          "2015-07",
          "2015-08",
          "2015-09",
          "2015-10",
          "2015-11",
          "2015-12",
          "2016-01",
          "2016-02",
          "2016-03",
          "2016-04",
          "2016-05",
          "2016-06",
          "2016-07",
          "2016-08",
          "2016-09",
          "2016-10",
          "2016-11",
          "2016-12",
          "2017-01",
          "2017-02",
          "2017-03",
          "2017-04",
          "2017-05",
          "2017-06",
          "2017-07",
          "2017-08",
          "2017-09",
          "2017-10"
         ],
         "xaxis": "x",
         "y": [
          33704.032191497026,
          375712.9809551209,
          306505.9417918952,
          398318.5612967066,
          352214.721197721,
          346979.5315344943,
          358962.6621059587,
          434097.6155383898,
          373821.8864806564,
          502445.6073014996,
          417085.87278784974,
          1312875.818624432,
          422021.87393909163,
          455933.8879775958,
          365574.93454809237,
          427683.23428486194,
          344098.7863663119,
          368014.0933457488,
          398821.9514264606,
          474272.7660126063,
          425944.3488921867,
          552538.4270050096,
          464716.67542093375,
          331688.25962250005,
          406395.1730810507,
          420147.6346623363,
          352675.2053556213,
          440747.1128656494,
          387906.1714309207,
          406120.9067298428,
          427849.4007642932,
          526856.0487243097,
          457621.4806477524,
          565279.6708855442,
          425631.77593719267,
          352632.53344837093,
          454831.5113627067,
          515748.4784619697,
          411511.82311389263,
          455182.71365330566,
          431523.884810311,
          436880.6421828309,
          438083.1665378494,
          528755.7947802795,
          481939.6318619223,
          650326.0455564274,
          475463.51302650076,
          369406.1659886279,
          459868.77964772464,
          474362.9580546722,
          449074.31966766465,
          465539.34135467984,
          417451.92791975744,
          426714.39145159314,
          446335.41677194845,
          543785.7969182086,
          483534.7781003326,
          568832.7463156021,
          98269.76900185106
         ],
         "yaxis": "y"
        },
        {
         "hovertemplate": "dpt_num_department=117<br>year_month=%{x}<br>turnover=%{y}<extra></extra>",
         "legendgroup": "117",
         "line": {
          "color": "#00cc96",
          "dash": "solid"
         },
         "marker": {
          "symbol": "circle"
         },
         "mode": "markers+lines",
         "name": "117",
         "orientation": "v",
         "showlegend": true,
         "type": "scatter",
         "x": [
          "2012-12",
          "2013-01",
          "2013-02",
          "2013-03",
          "2013-04",
          "2013-05",
          "2013-06",
          "2013-07",
          "2013-08",
          "2013-09",
          "2013-10",
          "2013-11",
          "2013-12",
          "2014-01",
          "2014-02",
          "2014-03",
          "2014-04",
          "2014-05",
          "2014-06",
          "2014-07",
          "2014-08",
          "2014-09",
          "2014-10",
          "2014-11",
          "2014-12",
          "2015-01",
          "2015-02",
          "2015-03",
          "2015-04",
          "2015-05",
          "2015-06",
          "2015-07",
          "2015-08",
          "2015-09",
          "2015-10",
          "2015-11",
          "2015-12",
          "2016-01",
          "2016-02",
          "2016-03",
          "2016-04",
          "2016-05",
          "2016-06",
          "2016-07",
          "2016-08",
          "2016-09",
          "2016-10",
          "2016-11",
          "2016-12",
          "2017-01",
          "2017-02",
          "2017-03",
          "2017-04",
          "2017-05",
          "2017-06",
          "2017-07",
          "2017-08",
          "2017-09",
          "2017-10"
         ],
         "xaxis": "x",
         "y": [
          181563.11986827804,
          2077803.7746447762,
          1241619.749114466,
          391724.50141920184,
          19193.925007545764,
          807.5298831974603,
          883.9716478199005,
          1662.9953529308946,
          4227.860728694965,
          30380.30325892537,
          276502.91817314463,
          975345.5442540067,
          1775790.0137635893,
          1706991.3208973196,
          1237019.233185548,
          424896.16397587326,
          17209.609823937357,
          1163.7192368153596,
          1448.6687848783304,
          1842.2720475390818,
          4526.2794792569475,
          21197.233111325033,
          240384.68155949318,
          652427.3537587809,
          1461963.446141586,
          1918526.0832879846,
          1602590.2418722014,
          314231.6539128391,
          14560.644603999322,
          1051.8737668391614,
          1046.087374758543,
          2720.553370814495,
          3990.1135552379365,
          21225.73946290972,
          362771.51482245285,
          624499.2380461831,
          1302007.4544380973,
          1953037.1657829257,
          1400816.4650225826,
          459924.07274310087,
          41641.16151909453,
          3007.938306389911,
          2661.924416392648,
          5534.334228748313,
          4625.892279749522,
          9012.973623918739,
          294897.7545172789,
          747222.5359663863,
          1400019.7098608033,
          2456868.3710550065,
          1493267.5715430626,
          337902.18885173416,
          25976.516126689912,
          2696.048038716376,
          2732.1405180516194,
          5311.908837667021,
          4001.3173747785745,
          14077.511089225702,
          7712.87744939726
         ],
         "yaxis": "y"
        },
        {
         "hovertemplate": "dpt_num_department=127<br>year_month=%{x}<br>turnover=%{y}<extra></extra>",
         "legendgroup": "127",
         "line": {
          "color": "#ab63fa",
          "dash": "solid"
         },
         "marker": {
          "symbol": "circle"
         },
         "mode": "markers+lines",
         "name": "127",
         "orientation": "v",
         "showlegend": true,
         "type": "scatter",
         "x": [
          "2012-12",
          "2013-01",
          "2013-02",
          "2013-03",
          "2013-04",
          "2013-05",
          "2013-06",
          "2013-07",
          "2013-08",
          "2013-09",
          "2013-10",
          "2013-11",
          "2013-12",
          "2014-01",
          "2014-02",
          "2014-03",
          "2014-04",
          "2014-05",
          "2014-06",
          "2014-07",
          "2014-08",
          "2014-09",
          "2014-10",
          "2014-11",
          "2014-12",
          "2015-01",
          "2015-02",
          "2015-03",
          "2015-04",
          "2015-05",
          "2015-06",
          "2015-07",
          "2015-08",
          "2015-09",
          "2015-10",
          "2015-11",
          "2015-12",
          "2016-01",
          "2016-02",
          "2016-03",
          "2016-04",
          "2016-05",
          "2016-06",
          "2016-07",
          "2016-08",
          "2016-09",
          "2016-10",
          "2016-11",
          "2016-12",
          "2017-01",
          "2017-02",
          "2017-03",
          "2017-04",
          "2017-05",
          "2017-06",
          "2017-07",
          "2017-08",
          "2017-09",
          "2017-10"
         ],
         "xaxis": "x",
         "y": [
          106409.9257336446,
          1373943.6762748861,
          814317.724937744,
          701992.6801281433,
          903984.3106032227,
          1235690.501621846,
          1257620.8659280704,
          2333127.2958425535,
          1671294.1485555249,
          1028664.3693547876,
          916519.115488944,
          1240889.4562302502,
          1409562.4183682108,
          1158999.9411776112,
          880825.1414168214,
          765784.0318706427,
          932908.0796707855,
          1269599.2063508362,
          1493069.608899053,
          2419194.8330055475,
          1891398.5889402316,
          900696.1539860631,
          897385.9179748319,
          1016795.6539602999,
          1408263.9410430978,
          1400461.816381865,
          1088921.7216746886,
          752895.2936721384,
          1063651.609242037,
          1510421.5319021286,
          1578181.3414349027,
          2735754.703889426,
          2013695.2687848883,
          1149494.8618093575,
          1081662.4856359502,
          959192.2989267295,
          1265518.9337288446,
          2613179.796381846,
          2020428.531287447,
          1603787.0137998369,
          2229767.026374453,
          2910064.539028725,
          3220893.53115661,
          5571215.983324337,
          4123818.3446345646,
          2055467.7819308676,
          2282854.7524537146,
          2181028.8356114575,
          2589528.029040442,
          1882301.3013160808,
          1044651.4880990344,
          858186.7233601242,
          1223388.872491893,
          1540192.5190520128,
          1846475.6540411785,
          2957380.8136624307,
          2257494.8663841956,
          1289318.1045749001,
          193839.18059976416
         ],
         "yaxis": "y"
        }
       ],
       "layout": {
        "height": 800,
        "legend": {
         "title": {
          "text": "Business Unit"
         },
         "tracegroupgap": 0
        },
        "template": {
         "data": {
          "bar": [
           {
            "error_x": {
             "color": "#2a3f5f"
            },
            "error_y": {
             "color": "#2a3f5f"
            },
            "marker": {
             "line": {
              "color": "#E5ECF6",
              "width": 0.5
             },
             "pattern": {
              "fillmode": "overlay",
              "size": 10,
              "solidity": 0.2
             }
            },
            "type": "bar"
           }
          ],
          "barpolar": [
           {
            "marker": {
             "line": {
              "color": "#E5ECF6",
              "width": 0.5
             },
             "pattern": {
              "fillmode": "overlay",
              "size": 10,
              "solidity": 0.2
             }
            },
            "type": "barpolar"
           }
          ],
          "carpet": [
           {
            "aaxis": {
             "endlinecolor": "#2a3f5f",
             "gridcolor": "white",
             "linecolor": "white",
             "minorgridcolor": "white",
             "startlinecolor": "#2a3f5f"
            },
            "baxis": {
             "endlinecolor": "#2a3f5f",
             "gridcolor": "white",
             "linecolor": "white",
             "minorgridcolor": "white",
             "startlinecolor": "#2a3f5f"
            },
            "type": "carpet"
           }
          ],
          "choropleth": [
           {
            "colorbar": {
             "outlinewidth": 0,
             "ticks": ""
            },
            "type": "choropleth"
           }
          ],
          "contour": [
           {
            "colorbar": {
             "outlinewidth": 0,
             "ticks": ""
            },
            "colorscale": [
             [
              0,
              "#0d0887"
             ],
             [
              0.1111111111111111,
              "#46039f"
             ],
             [
              0.2222222222222222,
              "#7201a8"
             ],
             [
              0.3333333333333333,
              "#9c179e"
             ],
             [
              0.4444444444444444,
              "#bd3786"
             ],
             [
              0.5555555555555556,
              "#d8576b"
             ],
             [
              0.6666666666666666,
              "#ed7953"
             ],
             [
              0.7777777777777778,
              "#fb9f3a"
             ],
             [
              0.8888888888888888,
              "#fdca26"
             ],
             [
              1,
              "#f0f921"
             ]
            ],
            "type": "contour"
           }
          ],
          "contourcarpet": [
           {
            "colorbar": {
             "outlinewidth": 0,
             "ticks": ""
            },
            "type": "contourcarpet"
           }
          ],
          "heatmap": [
           {
            "colorbar": {
             "outlinewidth": 0,
             "ticks": ""
            },
            "colorscale": [
             [
              0,
              "#0d0887"
             ],
             [
              0.1111111111111111,
              "#46039f"
             ],
             [
              0.2222222222222222,
              "#7201a8"
             ],
             [
              0.3333333333333333,
              "#9c179e"
             ],
             [
              0.4444444444444444,
              "#bd3786"
             ],
             [
              0.5555555555555556,
              "#d8576b"
             ],
             [
              0.6666666666666666,
              "#ed7953"
             ],
             [
              0.7777777777777778,
              "#fb9f3a"
             ],
             [
              0.8888888888888888,
              "#fdca26"
             ],
             [
              1,
              "#f0f921"
             ]
            ],
            "type": "heatmap"
           }
          ],
          "heatmapgl": [
           {
            "colorbar": {
             "outlinewidth": 0,
             "ticks": ""
            },
            "colorscale": [
             [
              0,
              "#0d0887"
             ],
             [
              0.1111111111111111,
              "#46039f"
             ],
             [
              0.2222222222222222,
              "#7201a8"
             ],
             [
              0.3333333333333333,
              "#9c179e"
             ],
             [
              0.4444444444444444,
              "#bd3786"
             ],
             [
              0.5555555555555556,
              "#d8576b"
             ],
             [
              0.6666666666666666,
              "#ed7953"
             ],
             [
              0.7777777777777778,
              "#fb9f3a"
             ],
             [
              0.8888888888888888,
              "#fdca26"
             ],
             [
              1,
              "#f0f921"
             ]
            ],
            "type": "heatmapgl"
           }
          ],
          "histogram": [
           {
            "marker": {
             "pattern": {
              "fillmode": "overlay",
              "size": 10,
              "solidity": 0.2
             }
            },
            "type": "histogram"
           }
          ],
          "histogram2d": [
           {
            "colorbar": {
             "outlinewidth": 0,
             "ticks": ""
            },
            "colorscale": [
             [
              0,
              "#0d0887"
             ],
             [
              0.1111111111111111,
              "#46039f"
             ],
             [
              0.2222222222222222,
              "#7201a8"
             ],
             [
              0.3333333333333333,
              "#9c179e"
             ],
             [
              0.4444444444444444,
              "#bd3786"
             ],
             [
              0.5555555555555556,
              "#d8576b"
             ],
             [
              0.6666666666666666,
              "#ed7953"
             ],
             [
              0.7777777777777778,
              "#fb9f3a"
             ],
             [
              0.8888888888888888,
              "#fdca26"
             ],
             [
              1,
              "#f0f921"
             ]
            ],
            "type": "histogram2d"
           }
          ],
          "histogram2dcontour": [
           {
            "colorbar": {
             "outlinewidth": 0,
             "ticks": ""
            },
            "colorscale": [
             [
              0,
              "#0d0887"
             ],
             [
              0.1111111111111111,
              "#46039f"
             ],
             [
              0.2222222222222222,
              "#7201a8"
             ],
             [
              0.3333333333333333,
              "#9c179e"
             ],
             [
              0.4444444444444444,
              "#bd3786"
             ],
             [
              0.5555555555555556,
              "#d8576b"
             ],
             [
              0.6666666666666666,
              "#ed7953"
             ],
             [
              0.7777777777777778,
              "#fb9f3a"
             ],
             [
              0.8888888888888888,
              "#fdca26"
             ],
             [
              1,
              "#f0f921"
             ]
            ],
            "type": "histogram2dcontour"
           }
          ],
          "mesh3d": [
           {
            "colorbar": {
             "outlinewidth": 0,
             "ticks": ""
            },
            "type": "mesh3d"
           }
          ],
          "parcoords": [
           {
            "line": {
             "colorbar": {
              "outlinewidth": 0,
              "ticks": ""
             }
            },
            "type": "parcoords"
           }
          ],
          "pie": [
           {
            "automargin": true,
            "type": "pie"
           }
          ],
          "scatter": [
           {
            "fillpattern": {
             "fillmode": "overlay",
             "size": 10,
             "solidity": 0.2
            },
            "type": "scatter"
           }
          ],
          "scatter3d": [
           {
            "line": {
             "colorbar": {
              "outlinewidth": 0,
              "ticks": ""
             }
            },
            "marker": {
             "colorbar": {
              "outlinewidth": 0,
              "ticks": ""
             }
            },
            "type": "scatter3d"
           }
          ],
          "scattercarpet": [
           {
            "marker": {
             "colorbar": {
              "outlinewidth": 0,
              "ticks": ""
             }
            },
            "type": "scattercarpet"
           }
          ],
          "scattergeo": [
           {
            "marker": {
             "colorbar": {
              "outlinewidth": 0,
              "ticks": ""
             }
            },
            "type": "scattergeo"
           }
          ],
          "scattergl": [
           {
            "marker": {
             "colorbar": {
              "outlinewidth": 0,
              "ticks": ""
             }
            },
            "type": "scattergl"
           }
          ],
          "scattermapbox": [
           {
            "marker": {
             "colorbar": {
              "outlinewidth": 0,
              "ticks": ""
             }
            },
            "type": "scattermapbox"
           }
          ],
          "scatterpolar": [
           {
            "marker": {
             "colorbar": {
              "outlinewidth": 0,
              "ticks": ""
             }
            },
            "type": "scatterpolar"
           }
          ],
          "scatterpolargl": [
           {
            "marker": {
             "colorbar": {
              "outlinewidth": 0,
              "ticks": ""
             }
            },
            "type": "scatterpolargl"
           }
          ],
          "scatterternary": [
           {
            "marker": {
             "colorbar": {
              "outlinewidth": 0,
              "ticks": ""
             }
            },
            "type": "scatterternary"
           }
          ],
          "surface": [
           {
            "colorbar": {
             "outlinewidth": 0,
             "ticks": ""
            },
            "colorscale": [
             [
              0,
              "#0d0887"
             ],
             [
              0.1111111111111111,
              "#46039f"
             ],
             [
              0.2222222222222222,
              "#7201a8"
             ],
             [
              0.3333333333333333,
              "#9c179e"
             ],
             [
              0.4444444444444444,
              "#bd3786"
             ],
             [
              0.5555555555555556,
              "#d8576b"
             ],
             [
              0.6666666666666666,
              "#ed7953"
             ],
             [
              0.7777777777777778,
              "#fb9f3a"
             ],
             [
              0.8888888888888888,
              "#fdca26"
             ],
             [
              1,
              "#f0f921"
             ]
            ],
            "type": "surface"
           }
          ],
          "table": [
           {
            "cells": {
             "fill": {
              "color": "#EBF0F8"
             },
             "line": {
              "color": "white"
             }
            },
            "header": {
             "fill": {
              "color": "#C8D4E3"
             },
             "line": {
              "color": "white"
             }
            },
            "type": "table"
           }
          ]
         },
         "layout": {
          "annotationdefaults": {
           "arrowcolor": "#2a3f5f",
           "arrowhead": 0,
           "arrowwidth": 1
          },
          "autotypenumbers": "strict",
          "coloraxis": {
           "colorbar": {
            "outlinewidth": 0,
            "ticks": ""
           }
          },
          "colorscale": {
           "diverging": [
            [
             0,
             "#8e0152"
            ],
            [
             0.1,
             "#c51b7d"
            ],
            [
             0.2,
             "#de77ae"
            ],
            [
             0.3,
             "#f1b6da"
            ],
            [
             0.4,
             "#fde0ef"
            ],
            [
             0.5,
             "#f7f7f7"
            ],
            [
             0.6,
             "#e6f5d0"
            ],
            [
             0.7,
             "#b8e186"
            ],
            [
             0.8,
             "#7fbc41"
            ],
            [
             0.9,
             "#4d9221"
            ],
            [
             1,
             "#276419"
            ]
           ],
           "sequential": [
            [
             0,
             "#0d0887"
            ],
            [
             0.1111111111111111,
             "#46039f"
            ],
            [
             0.2222222222222222,
             "#7201a8"
            ],
            [
             0.3333333333333333,
             "#9c179e"
            ],
            [
             0.4444444444444444,
             "#bd3786"
            ],
            [
             0.5555555555555556,
             "#d8576b"
            ],
            [
             0.6666666666666666,
             "#ed7953"
            ],
            [
             0.7777777777777778,
             "#fb9f3a"
            ],
            [
             0.8888888888888888,
             "#fdca26"
            ],
            [
             1,
             "#f0f921"
            ]
           ],
           "sequentialminus": [
            [
             0,
             "#0d0887"
            ],
            [
             0.1111111111111111,
             "#46039f"
            ],
            [
             0.2222222222222222,
             "#7201a8"
            ],
            [
             0.3333333333333333,
             "#9c179e"
            ],
            [
             0.4444444444444444,
             "#bd3786"
            ],
            [
             0.5555555555555556,
             "#d8576b"
            ],
            [
             0.6666666666666666,
             "#ed7953"
            ],
            [
             0.7777777777777778,
             "#fb9f3a"
            ],
            [
             0.8888888888888888,
             "#fdca26"
            ],
            [
             1,
             "#f0f921"
            ]
           ]
          },
          "colorway": [
           "#636efa",
           "#EF553B",
           "#00cc96",
           "#ab63fa",
           "#FFA15A",
           "#19d3f3",
           "#FF6692",
           "#B6E880",
           "#FF97FF",
           "#FECB52"
          ],
          "font": {
           "color": "#2a3f5f"
          },
          "geo": {
           "bgcolor": "white",
           "lakecolor": "white",
           "landcolor": "#E5ECF6",
           "showlakes": true,
           "showland": true,
           "subunitcolor": "white"
          },
          "hoverlabel": {
           "align": "left"
          },
          "hovermode": "closest",
          "mapbox": {
           "style": "light"
          },
          "paper_bgcolor": "white",
          "plot_bgcolor": "#E5ECF6",
          "polar": {
           "angularaxis": {
            "gridcolor": "white",
            "linecolor": "white",
            "ticks": ""
           },
           "bgcolor": "#E5ECF6",
           "radialaxis": {
            "gridcolor": "white",
            "linecolor": "white",
            "ticks": ""
           }
          },
          "scene": {
           "xaxis": {
            "backgroundcolor": "#E5ECF6",
            "gridcolor": "white",
            "gridwidth": 2,
            "linecolor": "white",
            "showbackground": true,
            "ticks": "",
            "zerolinecolor": "white"
           },
           "yaxis": {
            "backgroundcolor": "#E5ECF6",
            "gridcolor": "white",
            "gridwidth": 2,
            "linecolor": "white",
            "showbackground": true,
            "ticks": "",
            "zerolinecolor": "white"
           },
           "zaxis": {
            "backgroundcolor": "#E5ECF6",
            "gridcolor": "white",
            "gridwidth": 2,
            "linecolor": "white",
            "showbackground": true,
            "ticks": "",
            "zerolinecolor": "white"
           }
          },
          "shapedefaults": {
           "line": {
            "color": "#2a3f5f"
           }
          },
          "ternary": {
           "aaxis": {
            "gridcolor": "white",
            "linecolor": "white",
            "ticks": ""
           },
           "baxis": {
            "gridcolor": "white",
            "linecolor": "white",
            "ticks": ""
           },
           "bgcolor": "#E5ECF6",
           "caxis": {
            "gridcolor": "white",
            "linecolor": "white",
            "ticks": ""
           }
          },
          "title": {
           "x": 0.05
          },
          "xaxis": {
           "automargin": true,
           "gridcolor": "white",
           "linecolor": "white",
           "ticks": "",
           "title": {
            "standoff": 15
           },
           "zerolinecolor": "white",
           "zerolinewidth": 2
          },
          "yaxis": {
           "automargin": true,
           "gridcolor": "white",
           "linecolor": "white",
           "ticks": "",
           "title": {
            "standoff": 15
           },
           "zerolinecolor": "white",
           "zerolinewidth": 2
          }
         }
        },
        "title": {
         "text": "Turnover Evolution for Different Business Units"
        },
        "width": 1200,
        "xaxis": {
         "anchor": "y",
         "domain": [
          0,
          1
         ],
         "title": {
          "text": "Day"
         }
        },
        "yaxis": {
         "anchor": "x",
         "domain": [
          0,
          1
         ],
         "title": {
          "text": "Turnover"
         }
        }
       }
      }
     },
     "metadata": {},
     "output_type": "display_data"
    }
   ],
   "source": [
    "fig = px.line(monthly_turnover, \n",
    "              x='year_month', \n",
    "              y='turnover', \n",
    "              color='dpt_num_department', \n",
    "              title='Turnover Evolution for Different Business Units',\n",
    "              markers=True)\n",
    "\n",
    "# Optional: Customize the layout\n",
    "fig.update_layout(\n",
    "    xaxis_title='Day',\n",
    "    yaxis_title='Turnover',\n",
    "    legend_title='Business Unit',\n",
    "    template='plotly',\n",
    "    width=1200,\n",
    "    height=800\n",
    ")\n",
    "\n",
    "fig.show()"
   ]
  },
  {
   "cell_type": "markdown",
   "metadata": {},
   "source": [
    "D'après mes connaissances sur décathlon et quelques recherches les sports avec le plus gros turnover chez décathlon sont les sport nautiques, le ski/sports d'hiver, la randonnée, et le fitness. \n",
    "\n",
    "Le département 117 fait la majorité de sont turnover entre octobre et mars, on peut supposer que ce département représente les sport d'hiver. \n",
    "\n",
    "Le département 127 a le plus gros turnover et a deux pic de ventes, l'été en juillet aout et décembre janvier, cela peut représenter les sports nautiques avec le pic de décembre/janvier qui peut correspondre aux personnes allant en vacances d'hiver au soleil. \n",
    "\n",
    "Les deux derniers départements 73 et 88 ont des turnover plus faibles (88 plus important que 73) et sont présents toute l'année en magasin (à la différence du département 117). Les ventes du département 88 sont très stables toute l'année (sauf pic en Novembre 2013) à la différence du département 73 qui a un phénomène de saisonalité sur primtemps et été. Avec ses informations nous pouvons attribuer faire correspondre le département 88 avec le fitness (comportement similaire toute l'année) et et le département 73 avec la randonnée qui est plus généralement pratiquée au printemps et en été même si elle reste présente tout l'année. "
   ]
  },
  {
   "cell_type": "code",
   "execution_count": 106,
   "metadata": {},
   "outputs": [
    {
     "data": {
      "application/vnd.plotly.v1+json": {
       "config": {
        "plotlyServerURL": "https://plot.ly"
       },
       "data": [
        {
         "hovertemplate": "year_month=%{x}<br>turnover=%{y}<extra></extra>",
         "legendgroup": "",
         "line": {
          "color": "red",
          "dash": "solid"
         },
         "marker": {
          "symbol": "circle"
         },
         "mode": "lines+markers",
         "name": "",
         "orientation": "v",
         "showlegend": false,
         "type": "scatter",
         "x": [
          "2012-12",
          "2013-01",
          "2013-02",
          "2013-03",
          "2013-04",
          "2013-05",
          "2013-06",
          "2013-07",
          "2013-08",
          "2013-09",
          "2013-10",
          "2013-11",
          "2013-12",
          "2014-01",
          "2014-02",
          "2014-03",
          "2014-04",
          "2014-05",
          "2014-06",
          "2014-07",
          "2014-08",
          "2014-09",
          "2014-10",
          "2014-11",
          "2014-12",
          "2015-01",
          "2015-02",
          "2015-03",
          "2015-04",
          "2015-05",
          "2015-06",
          "2015-07",
          "2015-08",
          "2015-09",
          "2015-10",
          "2015-11",
          "2015-12",
          "2016-01",
          "2016-02",
          "2016-03",
          "2016-04",
          "2016-05",
          "2016-06",
          "2016-07",
          "2016-08",
          "2016-09",
          "2016-10",
          "2016-11",
          "2016-12",
          "2017-01",
          "2017-02",
          "2017-03",
          "2017-04",
          "2017-05",
          "2017-06",
          "2017-07",
          "2017-08",
          "2017-09",
          "2017-10"
         ],
         "xaxis": "x",
         "y": [
          33704.032191497026,
          375712.9809551209,
          306505.9417918952,
          398318.5612967066,
          352214.721197721,
          346979.5315344943,
          358962.6621059587,
          434097.6155383898,
          373821.8864806564,
          502445.6073014996,
          417085.87278784974,
          1312875.818624432,
          422021.87393909163,
          455933.8879775958,
          365574.93454809237,
          427683.23428486194,
          344098.7863663119,
          368014.0933457488,
          398821.9514264606,
          474272.7660126063,
          425944.3488921867,
          552538.4270050096,
          464716.67542093375,
          331688.25962250005,
          406395.1730810507,
          420147.6346623363,
          352675.2053556213,
          440747.1128656494,
          387906.1714309207,
          406120.9067298428,
          427849.4007642932,
          526856.0487243097,
          457621.4806477524,
          565279.6708855442,
          425631.77593719267,
          352632.53344837093,
          454831.5113627067,
          515748.4784619697,
          411511.82311389263,
          455182.71365330566,
          431523.884810311,
          436880.6421828309,
          438083.1665378494,
          528755.7947802795,
          481939.6318619223,
          650326.0455564274,
          475463.51302650076,
          369406.1659886279,
          459868.77964772464,
          474362.9580546722,
          449074.31966766465,
          465539.34135467984,
          417451.92791975744,
          426714.39145159314,
          446335.41677194845,
          543785.7969182086,
          483534.7781003326,
          568832.7463156021,
          98269.76900185106
         ],
         "yaxis": "y"
        }
       ],
       "layout": {
        "legend": {
         "tracegroupgap": 0
        },
        "template": {
         "data": {
          "bar": [
           {
            "error_x": {
             "color": "#2a3f5f"
            },
            "error_y": {
             "color": "#2a3f5f"
            },
            "marker": {
             "line": {
              "color": "#E5ECF6",
              "width": 0.5
             },
             "pattern": {
              "fillmode": "overlay",
              "size": 10,
              "solidity": 0.2
             }
            },
            "type": "bar"
           }
          ],
          "barpolar": [
           {
            "marker": {
             "line": {
              "color": "#E5ECF6",
              "width": 0.5
             },
             "pattern": {
              "fillmode": "overlay",
              "size": 10,
              "solidity": 0.2
             }
            },
            "type": "barpolar"
           }
          ],
          "carpet": [
           {
            "aaxis": {
             "endlinecolor": "#2a3f5f",
             "gridcolor": "white",
             "linecolor": "white",
             "minorgridcolor": "white",
             "startlinecolor": "#2a3f5f"
            },
            "baxis": {
             "endlinecolor": "#2a3f5f",
             "gridcolor": "white",
             "linecolor": "white",
             "minorgridcolor": "white",
             "startlinecolor": "#2a3f5f"
            },
            "type": "carpet"
           }
          ],
          "choropleth": [
           {
            "colorbar": {
             "outlinewidth": 0,
             "ticks": ""
            },
            "type": "choropleth"
           }
          ],
          "contour": [
           {
            "colorbar": {
             "outlinewidth": 0,
             "ticks": ""
            },
            "colorscale": [
             [
              0,
              "#0d0887"
             ],
             [
              0.1111111111111111,
              "#46039f"
             ],
             [
              0.2222222222222222,
              "#7201a8"
             ],
             [
              0.3333333333333333,
              "#9c179e"
             ],
             [
              0.4444444444444444,
              "#bd3786"
             ],
             [
              0.5555555555555556,
              "#d8576b"
             ],
             [
              0.6666666666666666,
              "#ed7953"
             ],
             [
              0.7777777777777778,
              "#fb9f3a"
             ],
             [
              0.8888888888888888,
              "#fdca26"
             ],
             [
              1,
              "#f0f921"
             ]
            ],
            "type": "contour"
           }
          ],
          "contourcarpet": [
           {
            "colorbar": {
             "outlinewidth": 0,
             "ticks": ""
            },
            "type": "contourcarpet"
           }
          ],
          "heatmap": [
           {
            "colorbar": {
             "outlinewidth": 0,
             "ticks": ""
            },
            "colorscale": [
             [
              0,
              "#0d0887"
             ],
             [
              0.1111111111111111,
              "#46039f"
             ],
             [
              0.2222222222222222,
              "#7201a8"
             ],
             [
              0.3333333333333333,
              "#9c179e"
             ],
             [
              0.4444444444444444,
              "#bd3786"
             ],
             [
              0.5555555555555556,
              "#d8576b"
             ],
             [
              0.6666666666666666,
              "#ed7953"
             ],
             [
              0.7777777777777778,
              "#fb9f3a"
             ],
             [
              0.8888888888888888,
              "#fdca26"
             ],
             [
              1,
              "#f0f921"
             ]
            ],
            "type": "heatmap"
           }
          ],
          "heatmapgl": [
           {
            "colorbar": {
             "outlinewidth": 0,
             "ticks": ""
            },
            "colorscale": [
             [
              0,
              "#0d0887"
             ],
             [
              0.1111111111111111,
              "#46039f"
             ],
             [
              0.2222222222222222,
              "#7201a8"
             ],
             [
              0.3333333333333333,
              "#9c179e"
             ],
             [
              0.4444444444444444,
              "#bd3786"
             ],
             [
              0.5555555555555556,
              "#d8576b"
             ],
             [
              0.6666666666666666,
              "#ed7953"
             ],
             [
              0.7777777777777778,
              "#fb9f3a"
             ],
             [
              0.8888888888888888,
              "#fdca26"
             ],
             [
              1,
              "#f0f921"
             ]
            ],
            "type": "heatmapgl"
           }
          ],
          "histogram": [
           {
            "marker": {
             "pattern": {
              "fillmode": "overlay",
              "size": 10,
              "solidity": 0.2
             }
            },
            "type": "histogram"
           }
          ],
          "histogram2d": [
           {
            "colorbar": {
             "outlinewidth": 0,
             "ticks": ""
            },
            "colorscale": [
             [
              0,
              "#0d0887"
             ],
             [
              0.1111111111111111,
              "#46039f"
             ],
             [
              0.2222222222222222,
              "#7201a8"
             ],
             [
              0.3333333333333333,
              "#9c179e"
             ],
             [
              0.4444444444444444,
              "#bd3786"
             ],
             [
              0.5555555555555556,
              "#d8576b"
             ],
             [
              0.6666666666666666,
              "#ed7953"
             ],
             [
              0.7777777777777778,
              "#fb9f3a"
             ],
             [
              0.8888888888888888,
              "#fdca26"
             ],
             [
              1,
              "#f0f921"
             ]
            ],
            "type": "histogram2d"
           }
          ],
          "histogram2dcontour": [
           {
            "colorbar": {
             "outlinewidth": 0,
             "ticks": ""
            },
            "colorscale": [
             [
              0,
              "#0d0887"
             ],
             [
              0.1111111111111111,
              "#46039f"
             ],
             [
              0.2222222222222222,
              "#7201a8"
             ],
             [
              0.3333333333333333,
              "#9c179e"
             ],
             [
              0.4444444444444444,
              "#bd3786"
             ],
             [
              0.5555555555555556,
              "#d8576b"
             ],
             [
              0.6666666666666666,
              "#ed7953"
             ],
             [
              0.7777777777777778,
              "#fb9f3a"
             ],
             [
              0.8888888888888888,
              "#fdca26"
             ],
             [
              1,
              "#f0f921"
             ]
            ],
            "type": "histogram2dcontour"
           }
          ],
          "mesh3d": [
           {
            "colorbar": {
             "outlinewidth": 0,
             "ticks": ""
            },
            "type": "mesh3d"
           }
          ],
          "parcoords": [
           {
            "line": {
             "colorbar": {
              "outlinewidth": 0,
              "ticks": ""
             }
            },
            "type": "parcoords"
           }
          ],
          "pie": [
           {
            "automargin": true,
            "type": "pie"
           }
          ],
          "scatter": [
           {
            "fillpattern": {
             "fillmode": "overlay",
             "size": 10,
             "solidity": 0.2
            },
            "type": "scatter"
           }
          ],
          "scatter3d": [
           {
            "line": {
             "colorbar": {
              "outlinewidth": 0,
              "ticks": ""
             }
            },
            "marker": {
             "colorbar": {
              "outlinewidth": 0,
              "ticks": ""
             }
            },
            "type": "scatter3d"
           }
          ],
          "scattercarpet": [
           {
            "marker": {
             "colorbar": {
              "outlinewidth": 0,
              "ticks": ""
             }
            },
            "type": "scattercarpet"
           }
          ],
          "scattergeo": [
           {
            "marker": {
             "colorbar": {
              "outlinewidth": 0,
              "ticks": ""
             }
            },
            "type": "scattergeo"
           }
          ],
          "scattergl": [
           {
            "marker": {
             "colorbar": {
              "outlinewidth": 0,
              "ticks": ""
             }
            },
            "type": "scattergl"
           }
          ],
          "scattermapbox": [
           {
            "marker": {
             "colorbar": {
              "outlinewidth": 0,
              "ticks": ""
             }
            },
            "type": "scattermapbox"
           }
          ],
          "scatterpolar": [
           {
            "marker": {
             "colorbar": {
              "outlinewidth": 0,
              "ticks": ""
             }
            },
            "type": "scatterpolar"
           }
          ],
          "scatterpolargl": [
           {
            "marker": {
             "colorbar": {
              "outlinewidth": 0,
              "ticks": ""
             }
            },
            "type": "scatterpolargl"
           }
          ],
          "scatterternary": [
           {
            "marker": {
             "colorbar": {
              "outlinewidth": 0,
              "ticks": ""
             }
            },
            "type": "scatterternary"
           }
          ],
          "surface": [
           {
            "colorbar": {
             "outlinewidth": 0,
             "ticks": ""
            },
            "colorscale": [
             [
              0,
              "#0d0887"
             ],
             [
              0.1111111111111111,
              "#46039f"
             ],
             [
              0.2222222222222222,
              "#7201a8"
             ],
             [
              0.3333333333333333,
              "#9c179e"
             ],
             [
              0.4444444444444444,
              "#bd3786"
             ],
             [
              0.5555555555555556,
              "#d8576b"
             ],
             [
              0.6666666666666666,
              "#ed7953"
             ],
             [
              0.7777777777777778,
              "#fb9f3a"
             ],
             [
              0.8888888888888888,
              "#fdca26"
             ],
             [
              1,
              "#f0f921"
             ]
            ],
            "type": "surface"
           }
          ],
          "table": [
           {
            "cells": {
             "fill": {
              "color": "#EBF0F8"
             },
             "line": {
              "color": "white"
             }
            },
            "header": {
             "fill": {
              "color": "#C8D4E3"
             },
             "line": {
              "color": "white"
             }
            },
            "type": "table"
           }
          ]
         },
         "layout": {
          "annotationdefaults": {
           "arrowcolor": "#2a3f5f",
           "arrowhead": 0,
           "arrowwidth": 1
          },
          "autotypenumbers": "strict",
          "coloraxis": {
           "colorbar": {
            "outlinewidth": 0,
            "ticks": ""
           }
          },
          "colorscale": {
           "diverging": [
            [
             0,
             "#8e0152"
            ],
            [
             0.1,
             "#c51b7d"
            ],
            [
             0.2,
             "#de77ae"
            ],
            [
             0.3,
             "#f1b6da"
            ],
            [
             0.4,
             "#fde0ef"
            ],
            [
             0.5,
             "#f7f7f7"
            ],
            [
             0.6,
             "#e6f5d0"
            ],
            [
             0.7,
             "#b8e186"
            ],
            [
             0.8,
             "#7fbc41"
            ],
            [
             0.9,
             "#4d9221"
            ],
            [
             1,
             "#276419"
            ]
           ],
           "sequential": [
            [
             0,
             "#0d0887"
            ],
            [
             0.1111111111111111,
             "#46039f"
            ],
            [
             0.2222222222222222,
             "#7201a8"
            ],
            [
             0.3333333333333333,
             "#9c179e"
            ],
            [
             0.4444444444444444,
             "#bd3786"
            ],
            [
             0.5555555555555556,
             "#d8576b"
            ],
            [
             0.6666666666666666,
             "#ed7953"
            ],
            [
             0.7777777777777778,
             "#fb9f3a"
            ],
            [
             0.8888888888888888,
             "#fdca26"
            ],
            [
             1,
             "#f0f921"
            ]
           ],
           "sequentialminus": [
            [
             0,
             "#0d0887"
            ],
            [
             0.1111111111111111,
             "#46039f"
            ],
            [
             0.2222222222222222,
             "#7201a8"
            ],
            [
             0.3333333333333333,
             "#9c179e"
            ],
            [
             0.4444444444444444,
             "#bd3786"
            ],
            [
             0.5555555555555556,
             "#d8576b"
            ],
            [
             0.6666666666666666,
             "#ed7953"
            ],
            [
             0.7777777777777778,
             "#fb9f3a"
            ],
            [
             0.8888888888888888,
             "#fdca26"
            ],
            [
             1,
             "#f0f921"
            ]
           ]
          },
          "colorway": [
           "#636efa",
           "#EF553B",
           "#00cc96",
           "#ab63fa",
           "#FFA15A",
           "#19d3f3",
           "#FF6692",
           "#B6E880",
           "#FF97FF",
           "#FECB52"
          ],
          "font": {
           "color": "#2a3f5f"
          },
          "geo": {
           "bgcolor": "white",
           "lakecolor": "white",
           "landcolor": "#E5ECF6",
           "showlakes": true,
           "showland": true,
           "subunitcolor": "white"
          },
          "hoverlabel": {
           "align": "left"
          },
          "hovermode": "closest",
          "mapbox": {
           "style": "light"
          },
          "paper_bgcolor": "white",
          "plot_bgcolor": "#E5ECF6",
          "polar": {
           "angularaxis": {
            "gridcolor": "white",
            "linecolor": "white",
            "ticks": ""
           },
           "bgcolor": "#E5ECF6",
           "radialaxis": {
            "gridcolor": "white",
            "linecolor": "white",
            "ticks": ""
           }
          },
          "scene": {
           "xaxis": {
            "backgroundcolor": "#E5ECF6",
            "gridcolor": "white",
            "gridwidth": 2,
            "linecolor": "white",
            "showbackground": true,
            "ticks": "",
            "zerolinecolor": "white"
           },
           "yaxis": {
            "backgroundcolor": "#E5ECF6",
            "gridcolor": "white",
            "gridwidth": 2,
            "linecolor": "white",
            "showbackground": true,
            "ticks": "",
            "zerolinecolor": "white"
           },
           "zaxis": {
            "backgroundcolor": "#E5ECF6",
            "gridcolor": "white",
            "gridwidth": 2,
            "linecolor": "white",
            "showbackground": true,
            "ticks": "",
            "zerolinecolor": "white"
           }
          },
          "shapedefaults": {
           "line": {
            "color": "#2a3f5f"
           }
          },
          "ternary": {
           "aaxis": {
            "gridcolor": "white",
            "linecolor": "white",
            "ticks": ""
           },
           "baxis": {
            "gridcolor": "white",
            "linecolor": "white",
            "ticks": ""
           },
           "bgcolor": "#E5ECF6",
           "caxis": {
            "gridcolor": "white",
            "linecolor": "white",
            "ticks": ""
           }
          },
          "title": {
           "x": 0.05
          },
          "xaxis": {
           "automargin": true,
           "gridcolor": "white",
           "linecolor": "white",
           "ticks": "",
           "title": {
            "standoff": 15
           },
           "zerolinecolor": "white",
           "zerolinewidth": 2
          },
          "yaxis": {
           "automargin": true,
           "gridcolor": "white",
           "linecolor": "white",
           "ticks": "",
           "title": {
            "standoff": 15
           },
           "zerolinecolor": "white",
           "zerolinewidth": 2
          }
         }
        },
        "title": {
         "text": "Turnover Evolution Over Time"
        },
        "xaxis": {
         "anchor": "y",
         "domain": [
          0,
          1
         ],
         "title": {
          "text": "Day"
         }
        },
        "yaxis": {
         "anchor": "x",
         "domain": [
          0,
          1
         ],
         "title": {
          "text": "Turnover"
         }
        }
       }
      }
     },
     "metadata": {},
     "output_type": "display_data"
    }
   ],
   "source": [
    "fig = px.line(monthly_turnover[monthly_turnover['dpt_num_department']==88], x='year_month', y='turnover', title='Turnover Evolution Over Time')\n",
    "\n",
    "fig.update_traces(mode='lines+markers', line=dict(color='red'))\n",
    "fig.update_layout(xaxis_title='Day', yaxis_title='Turnover')\n",
    "\n",
    "fig.show()"
   ]
  },
  {
   "cell_type": "code",
   "execution_count": 104,
   "metadata": {},
   "outputs": [
    {
     "data": {
      "application/vnd.plotly.v1+json": {
       "config": {
        "plotlyServerURL": "https://plot.ly"
       },
       "data": [
        {
         "hovertemplate": "year_month=%{x}<br>turnover=%{y}<extra></extra>",
         "legendgroup": "",
         "line": {
          "color": "blue",
          "dash": "solid"
         },
         "marker": {
          "symbol": "circle"
         },
         "mode": "lines+markers",
         "name": "",
         "orientation": "v",
         "showlegend": false,
         "type": "scatter",
         "x": [
          "2012-12",
          "2013-01",
          "2013-02",
          "2013-03",
          "2013-04",
          "2013-05",
          "2013-06",
          "2013-07",
          "2013-08",
          "2013-09",
          "2013-10",
          "2013-11",
          "2013-12",
          "2014-01",
          "2014-02",
          "2014-03",
          "2014-04",
          "2014-05",
          "2014-06",
          "2014-07",
          "2014-08",
          "2014-09",
          "2014-10",
          "2014-11",
          "2014-12",
          "2015-01",
          "2015-02",
          "2015-03",
          "2015-04",
          "2015-05",
          "2015-06",
          "2015-07",
          "2015-08",
          "2015-09",
          "2015-10",
          "2015-11",
          "2015-12",
          "2016-01",
          "2016-02",
          "2016-03",
          "2016-04",
          "2016-05",
          "2016-06",
          "2016-07",
          "2016-08",
          "2016-09",
          "2016-10",
          "2016-11",
          "2016-12",
          "2017-01",
          "2017-02",
          "2017-03",
          "2017-04",
          "2017-05",
          "2017-06",
          "2017-07",
          "2017-08",
          "2017-09",
          "2017-10"
         ],
         "xaxis": "x",
         "y": [
          4272.891440043737,
          52237.640002420645,
          33827.6433498472,
          40799.56721857347,
          65794.54893062798,
          87743.7854694418,
          79395.36406528362,
          100671.24856799367,
          72045.27015135992,
          74049.7067898862,
          68452.67310231108,
          65051.21289679395,
          48033.10797418029,
          51526.13136171886,
          39119.85103442211,
          46728.933644421304,
          70240.36168494631,
          92149.45241655718,
          89250.52655863814,
          117201.26608381601,
          102617.14872934647,
          66577.22901806359,
          80959.0634961446,
          65935.07889392163,
          60610.45552540032,
          56444.068684474594,
          39663.29860557134,
          50393.7577196732,
          83403.18976841816,
          110055.66340006031,
          95798.65416428127,
          127974.20343796186,
          118564.80254822079,
          98370.64736379005,
          80636.63127142978,
          54560.50562061118,
          60037.59124639706,
          122762.93422181769,
          95508.62075578311,
          103894.58190994902,
          177122.7820490228,
          199254.8528311086,
          221548.00326084334,
          278590.25538072916,
          216750.243936442,
          143488.61955414506,
          161937.96861348514,
          128765.46104148518,
          110656.21748196191,
          64336.27657224266,
          45280.777468133325,
          54341.08448364633,
          86875.4761827349,
          95826.19738055892,
          99213.33257573942,
          132915.44566834066,
          119392.46004873488,
          92395.8982098122,
          13493.367687174132
         ],
         "yaxis": "y"
        }
       ],
       "layout": {
        "legend": {
         "tracegroupgap": 0
        },
        "template": {
         "data": {
          "bar": [
           {
            "error_x": {
             "color": "#2a3f5f"
            },
            "error_y": {
             "color": "#2a3f5f"
            },
            "marker": {
             "line": {
              "color": "#E5ECF6",
              "width": 0.5
             },
             "pattern": {
              "fillmode": "overlay",
              "size": 10,
              "solidity": 0.2
             }
            },
            "type": "bar"
           }
          ],
          "barpolar": [
           {
            "marker": {
             "line": {
              "color": "#E5ECF6",
              "width": 0.5
             },
             "pattern": {
              "fillmode": "overlay",
              "size": 10,
              "solidity": 0.2
             }
            },
            "type": "barpolar"
           }
          ],
          "carpet": [
           {
            "aaxis": {
             "endlinecolor": "#2a3f5f",
             "gridcolor": "white",
             "linecolor": "white",
             "minorgridcolor": "white",
             "startlinecolor": "#2a3f5f"
            },
            "baxis": {
             "endlinecolor": "#2a3f5f",
             "gridcolor": "white",
             "linecolor": "white",
             "minorgridcolor": "white",
             "startlinecolor": "#2a3f5f"
            },
            "type": "carpet"
           }
          ],
          "choropleth": [
           {
            "colorbar": {
             "outlinewidth": 0,
             "ticks": ""
            },
            "type": "choropleth"
           }
          ],
          "contour": [
           {
            "colorbar": {
             "outlinewidth": 0,
             "ticks": ""
            },
            "colorscale": [
             [
              0,
              "#0d0887"
             ],
             [
              0.1111111111111111,
              "#46039f"
             ],
             [
              0.2222222222222222,
              "#7201a8"
             ],
             [
              0.3333333333333333,
              "#9c179e"
             ],
             [
              0.4444444444444444,
              "#bd3786"
             ],
             [
              0.5555555555555556,
              "#d8576b"
             ],
             [
              0.6666666666666666,
              "#ed7953"
             ],
             [
              0.7777777777777778,
              "#fb9f3a"
             ],
             [
              0.8888888888888888,
              "#fdca26"
             ],
             [
              1,
              "#f0f921"
             ]
            ],
            "type": "contour"
           }
          ],
          "contourcarpet": [
           {
            "colorbar": {
             "outlinewidth": 0,
             "ticks": ""
            },
            "type": "contourcarpet"
           }
          ],
          "heatmap": [
           {
            "colorbar": {
             "outlinewidth": 0,
             "ticks": ""
            },
            "colorscale": [
             [
              0,
              "#0d0887"
             ],
             [
              0.1111111111111111,
              "#46039f"
             ],
             [
              0.2222222222222222,
              "#7201a8"
             ],
             [
              0.3333333333333333,
              "#9c179e"
             ],
             [
              0.4444444444444444,
              "#bd3786"
             ],
             [
              0.5555555555555556,
              "#d8576b"
             ],
             [
              0.6666666666666666,
              "#ed7953"
             ],
             [
              0.7777777777777778,
              "#fb9f3a"
             ],
             [
              0.8888888888888888,
              "#fdca26"
             ],
             [
              1,
              "#f0f921"
             ]
            ],
            "type": "heatmap"
           }
          ],
          "heatmapgl": [
           {
            "colorbar": {
             "outlinewidth": 0,
             "ticks": ""
            },
            "colorscale": [
             [
              0,
              "#0d0887"
             ],
             [
              0.1111111111111111,
              "#46039f"
             ],
             [
              0.2222222222222222,
              "#7201a8"
             ],
             [
              0.3333333333333333,
              "#9c179e"
             ],
             [
              0.4444444444444444,
              "#bd3786"
             ],
             [
              0.5555555555555556,
              "#d8576b"
             ],
             [
              0.6666666666666666,
              "#ed7953"
             ],
             [
              0.7777777777777778,
              "#fb9f3a"
             ],
             [
              0.8888888888888888,
              "#fdca26"
             ],
             [
              1,
              "#f0f921"
             ]
            ],
            "type": "heatmapgl"
           }
          ],
          "histogram": [
           {
            "marker": {
             "pattern": {
              "fillmode": "overlay",
              "size": 10,
              "solidity": 0.2
             }
            },
            "type": "histogram"
           }
          ],
          "histogram2d": [
           {
            "colorbar": {
             "outlinewidth": 0,
             "ticks": ""
            },
            "colorscale": [
             [
              0,
              "#0d0887"
             ],
             [
              0.1111111111111111,
              "#46039f"
             ],
             [
              0.2222222222222222,
              "#7201a8"
             ],
             [
              0.3333333333333333,
              "#9c179e"
             ],
             [
              0.4444444444444444,
              "#bd3786"
             ],
             [
              0.5555555555555556,
              "#d8576b"
             ],
             [
              0.6666666666666666,
              "#ed7953"
             ],
             [
              0.7777777777777778,
              "#fb9f3a"
             ],
             [
              0.8888888888888888,
              "#fdca26"
             ],
             [
              1,
              "#f0f921"
             ]
            ],
            "type": "histogram2d"
           }
          ],
          "histogram2dcontour": [
           {
            "colorbar": {
             "outlinewidth": 0,
             "ticks": ""
            },
            "colorscale": [
             [
              0,
              "#0d0887"
             ],
             [
              0.1111111111111111,
              "#46039f"
             ],
             [
              0.2222222222222222,
              "#7201a8"
             ],
             [
              0.3333333333333333,
              "#9c179e"
             ],
             [
              0.4444444444444444,
              "#bd3786"
             ],
             [
              0.5555555555555556,
              "#d8576b"
             ],
             [
              0.6666666666666666,
              "#ed7953"
             ],
             [
              0.7777777777777778,
              "#fb9f3a"
             ],
             [
              0.8888888888888888,
              "#fdca26"
             ],
             [
              1,
              "#f0f921"
             ]
            ],
            "type": "histogram2dcontour"
           }
          ],
          "mesh3d": [
           {
            "colorbar": {
             "outlinewidth": 0,
             "ticks": ""
            },
            "type": "mesh3d"
           }
          ],
          "parcoords": [
           {
            "line": {
             "colorbar": {
              "outlinewidth": 0,
              "ticks": ""
             }
            },
            "type": "parcoords"
           }
          ],
          "pie": [
           {
            "automargin": true,
            "type": "pie"
           }
          ],
          "scatter": [
           {
            "fillpattern": {
             "fillmode": "overlay",
             "size": 10,
             "solidity": 0.2
            },
            "type": "scatter"
           }
          ],
          "scatter3d": [
           {
            "line": {
             "colorbar": {
              "outlinewidth": 0,
              "ticks": ""
             }
            },
            "marker": {
             "colorbar": {
              "outlinewidth": 0,
              "ticks": ""
             }
            },
            "type": "scatter3d"
           }
          ],
          "scattercarpet": [
           {
            "marker": {
             "colorbar": {
              "outlinewidth": 0,
              "ticks": ""
             }
            },
            "type": "scattercarpet"
           }
          ],
          "scattergeo": [
           {
            "marker": {
             "colorbar": {
              "outlinewidth": 0,
              "ticks": ""
             }
            },
            "type": "scattergeo"
           }
          ],
          "scattergl": [
           {
            "marker": {
             "colorbar": {
              "outlinewidth": 0,
              "ticks": ""
             }
            },
            "type": "scattergl"
           }
          ],
          "scattermapbox": [
           {
            "marker": {
             "colorbar": {
              "outlinewidth": 0,
              "ticks": ""
             }
            },
            "type": "scattermapbox"
           }
          ],
          "scatterpolar": [
           {
            "marker": {
             "colorbar": {
              "outlinewidth": 0,
              "ticks": ""
             }
            },
            "type": "scatterpolar"
           }
          ],
          "scatterpolargl": [
           {
            "marker": {
             "colorbar": {
              "outlinewidth": 0,
              "ticks": ""
             }
            },
            "type": "scatterpolargl"
           }
          ],
          "scatterternary": [
           {
            "marker": {
             "colorbar": {
              "outlinewidth": 0,
              "ticks": ""
             }
            },
            "type": "scatterternary"
           }
          ],
          "surface": [
           {
            "colorbar": {
             "outlinewidth": 0,
             "ticks": ""
            },
            "colorscale": [
             [
              0,
              "#0d0887"
             ],
             [
              0.1111111111111111,
              "#46039f"
             ],
             [
              0.2222222222222222,
              "#7201a8"
             ],
             [
              0.3333333333333333,
              "#9c179e"
             ],
             [
              0.4444444444444444,
              "#bd3786"
             ],
             [
              0.5555555555555556,
              "#d8576b"
             ],
             [
              0.6666666666666666,
              "#ed7953"
             ],
             [
              0.7777777777777778,
              "#fb9f3a"
             ],
             [
              0.8888888888888888,
              "#fdca26"
             ],
             [
              1,
              "#f0f921"
             ]
            ],
            "type": "surface"
           }
          ],
          "table": [
           {
            "cells": {
             "fill": {
              "color": "#EBF0F8"
             },
             "line": {
              "color": "white"
             }
            },
            "header": {
             "fill": {
              "color": "#C8D4E3"
             },
             "line": {
              "color": "white"
             }
            },
            "type": "table"
           }
          ]
         },
         "layout": {
          "annotationdefaults": {
           "arrowcolor": "#2a3f5f",
           "arrowhead": 0,
           "arrowwidth": 1
          },
          "autotypenumbers": "strict",
          "coloraxis": {
           "colorbar": {
            "outlinewidth": 0,
            "ticks": ""
           }
          },
          "colorscale": {
           "diverging": [
            [
             0,
             "#8e0152"
            ],
            [
             0.1,
             "#c51b7d"
            ],
            [
             0.2,
             "#de77ae"
            ],
            [
             0.3,
             "#f1b6da"
            ],
            [
             0.4,
             "#fde0ef"
            ],
            [
             0.5,
             "#f7f7f7"
            ],
            [
             0.6,
             "#e6f5d0"
            ],
            [
             0.7,
             "#b8e186"
            ],
            [
             0.8,
             "#7fbc41"
            ],
            [
             0.9,
             "#4d9221"
            ],
            [
             1,
             "#276419"
            ]
           ],
           "sequential": [
            [
             0,
             "#0d0887"
            ],
            [
             0.1111111111111111,
             "#46039f"
            ],
            [
             0.2222222222222222,
             "#7201a8"
            ],
            [
             0.3333333333333333,
             "#9c179e"
            ],
            [
             0.4444444444444444,
             "#bd3786"
            ],
            [
             0.5555555555555556,
             "#d8576b"
            ],
            [
             0.6666666666666666,
             "#ed7953"
            ],
            [
             0.7777777777777778,
             "#fb9f3a"
            ],
            [
             0.8888888888888888,
             "#fdca26"
            ],
            [
             1,
             "#f0f921"
            ]
           ],
           "sequentialminus": [
            [
             0,
             "#0d0887"
            ],
            [
             0.1111111111111111,
             "#46039f"
            ],
            [
             0.2222222222222222,
             "#7201a8"
            ],
            [
             0.3333333333333333,
             "#9c179e"
            ],
            [
             0.4444444444444444,
             "#bd3786"
            ],
            [
             0.5555555555555556,
             "#d8576b"
            ],
            [
             0.6666666666666666,
             "#ed7953"
            ],
            [
             0.7777777777777778,
             "#fb9f3a"
            ],
            [
             0.8888888888888888,
             "#fdca26"
            ],
            [
             1,
             "#f0f921"
            ]
           ]
          },
          "colorway": [
           "#636efa",
           "#EF553B",
           "#00cc96",
           "#ab63fa",
           "#FFA15A",
           "#19d3f3",
           "#FF6692",
           "#B6E880",
           "#FF97FF",
           "#FECB52"
          ],
          "font": {
           "color": "#2a3f5f"
          },
          "geo": {
           "bgcolor": "white",
           "lakecolor": "white",
           "landcolor": "#E5ECF6",
           "showlakes": true,
           "showland": true,
           "subunitcolor": "white"
          },
          "hoverlabel": {
           "align": "left"
          },
          "hovermode": "closest",
          "mapbox": {
           "style": "light"
          },
          "paper_bgcolor": "white",
          "plot_bgcolor": "#E5ECF6",
          "polar": {
           "angularaxis": {
            "gridcolor": "white",
            "linecolor": "white",
            "ticks": ""
           },
           "bgcolor": "#E5ECF6",
           "radialaxis": {
            "gridcolor": "white",
            "linecolor": "white",
            "ticks": ""
           }
          },
          "scene": {
           "xaxis": {
            "backgroundcolor": "#E5ECF6",
            "gridcolor": "white",
            "gridwidth": 2,
            "linecolor": "white",
            "showbackground": true,
            "ticks": "",
            "zerolinecolor": "white"
           },
           "yaxis": {
            "backgroundcolor": "#E5ECF6",
            "gridcolor": "white",
            "gridwidth": 2,
            "linecolor": "white",
            "showbackground": true,
            "ticks": "",
            "zerolinecolor": "white"
           },
           "zaxis": {
            "backgroundcolor": "#E5ECF6",
            "gridcolor": "white",
            "gridwidth": 2,
            "linecolor": "white",
            "showbackground": true,
            "ticks": "",
            "zerolinecolor": "white"
           }
          },
          "shapedefaults": {
           "line": {
            "color": "#2a3f5f"
           }
          },
          "ternary": {
           "aaxis": {
            "gridcolor": "white",
            "linecolor": "white",
            "ticks": ""
           },
           "baxis": {
            "gridcolor": "white",
            "linecolor": "white",
            "ticks": ""
           },
           "bgcolor": "#E5ECF6",
           "caxis": {
            "gridcolor": "white",
            "linecolor": "white",
            "ticks": ""
           }
          },
          "title": {
           "x": 0.05
          },
          "xaxis": {
           "automargin": true,
           "gridcolor": "white",
           "linecolor": "white",
           "ticks": "",
           "title": {
            "standoff": 15
           },
           "zerolinecolor": "white",
           "zerolinewidth": 2
          },
          "yaxis": {
           "automargin": true,
           "gridcolor": "white",
           "linecolor": "white",
           "ticks": "",
           "title": {
            "standoff": 15
           },
           "zerolinecolor": "white",
           "zerolinewidth": 2
          }
         }
        },
        "title": {
         "text": "Turnover Evolution Over Time"
        },
        "xaxis": {
         "anchor": "y",
         "domain": [
          0,
          1
         ],
         "title": {
          "text": "Day"
         }
        },
        "yaxis": {
         "anchor": "x",
         "domain": [
          0,
          1
         ],
         "title": {
          "text": "Turnover"
         }
        }
       }
      }
     },
     "metadata": {},
     "output_type": "display_data"
    }
   ],
   "source": [
    "fig = px.line(monthly_turnover[monthly_turnover['dpt_num_department']==73], x='year_month', y='turnover', title='Turnover Evolution Over Time')\n",
    "\n",
    "fig.update_traces(mode='lines+markers', line=dict(color='blue'))\n",
    "fig.update_layout(xaxis_title='Day', yaxis_title='Turnover')\n",
    "\n",
    "fig.show()"
   ]
  },
  {
   "cell_type": "markdown",
   "metadata": {},
   "source": [
    "Afin de visualiser plus facilement l'évolution du turnover sur l'année nous avons opté pour un affichage du turover chaque mois plutôt que chaque semaine. Pour cela nous avons déjà regroupé les lignes par semaine et département (la maille business unit ne nous intéresse pas pour répondre aux questions) puis sommes passés d'un dataframe avec une ligne par semaine et département à un dataframe à une ligne par jour et départment avec une valeur de turnover divisée par 7 pour chaque ligne. Puis nous avons regroupé les lignes par mois. Cette méthode est plus précise que de regrouper directement les semaines en mois car des jours risquent de ne pas être attribués aux bons mois. "
   ]
  },
  {
   "cell_type": "code",
   "execution_count": 105,
   "metadata": {},
   "outputs": [
    {
     "data": {
      "application/vnd.plotly.v1+json": {
       "config": {
        "plotlyServerURL": "https://plot.ly"
       },
       "data": [
        {
         "hovertemplate": "day_id=%{x}<br>turnover=%{y}<extra></extra>",
         "legendgroup": "",
         "line": {
          "color": "blue",
          "dash": "solid"
         },
         "marker": {
          "symbol": "circle"
         },
         "mode": "lines+markers",
         "name": "",
         "orientation": "v",
         "showlegend": false,
         "type": "scatter",
         "x": [
          "2012-12-29T00:00:00",
          "2013-01-05T00:00:00",
          "2013-01-12T00:00:00",
          "2013-01-19T00:00:00",
          "2013-01-26T00:00:00",
          "2013-02-02T00:00:00",
          "2013-02-09T00:00:00",
          "2013-02-16T00:00:00",
          "2013-02-23T00:00:00",
          "2013-03-02T00:00:00",
          "2013-03-09T00:00:00",
          "2013-03-16T00:00:00",
          "2013-03-23T00:00:00",
          "2013-03-30T00:00:00",
          "2013-04-06T00:00:00",
          "2013-04-13T00:00:00",
          "2013-04-20T00:00:00",
          "2013-04-27T00:00:00",
          "2013-05-04T00:00:00",
          "2013-05-11T00:00:00",
          "2013-05-18T00:00:00",
          "2013-05-25T00:00:00",
          "2013-06-01T00:00:00",
          "2013-06-08T00:00:00",
          "2013-06-15T00:00:00",
          "2013-06-22T00:00:00",
          "2013-06-29T00:00:00",
          "2013-07-06T00:00:00",
          "2013-07-13T00:00:00",
          "2013-07-20T00:00:00",
          "2013-07-27T00:00:00",
          "2013-08-03T00:00:00",
          "2013-08-10T00:00:00",
          "2013-08-17T00:00:00",
          "2013-08-24T00:00:00",
          "2013-08-31T00:00:00",
          "2013-09-07T00:00:00",
          "2013-09-14T00:00:00",
          "2013-09-21T00:00:00",
          "2013-09-28T00:00:00",
          "2013-10-05T00:00:00",
          "2013-10-12T00:00:00",
          "2013-10-19T00:00:00",
          "2013-10-26T00:00:00",
          "2013-11-02T00:00:00",
          "2013-11-09T00:00:00",
          "2013-11-16T00:00:00",
          "2013-11-23T00:00:00",
          "2013-11-30T00:00:00",
          "2013-12-07T00:00:00",
          "2013-12-14T00:00:00",
          "2013-12-21T00:00:00",
          "2013-12-28T00:00:00",
          "2014-01-04T00:00:00",
          "2014-01-11T00:00:00",
          "2014-01-18T00:00:00",
          "2014-01-25T00:00:00",
          "2014-02-01T00:00:00",
          "2014-02-08T00:00:00",
          "2014-02-15T00:00:00",
          "2014-02-22T00:00:00",
          "2014-03-01T00:00:00",
          "2014-03-08T00:00:00",
          "2014-03-15T00:00:00",
          "2014-03-22T00:00:00",
          "2014-03-29T00:00:00",
          "2014-04-05T00:00:00",
          "2014-04-12T00:00:00",
          "2014-04-19T00:00:00",
          "2014-04-26T00:00:00",
          "2014-05-03T00:00:00",
          "2014-05-10T00:00:00",
          "2014-05-17T00:00:00",
          "2014-05-24T00:00:00",
          "2014-05-31T00:00:00",
          "2014-06-07T00:00:00",
          "2014-06-14T00:00:00",
          "2014-06-21T00:00:00",
          "2014-06-28T00:00:00",
          "2014-07-05T00:00:00",
          "2014-07-12T00:00:00",
          "2014-07-19T00:00:00",
          "2014-07-26T00:00:00",
          "2014-08-02T00:00:00",
          "2014-08-09T00:00:00",
          "2014-08-16T00:00:00",
          "2014-08-23T00:00:00",
          "2014-08-30T00:00:00",
          "2014-09-06T00:00:00",
          "2014-09-13T00:00:00",
          "2014-09-20T00:00:00",
          "2014-09-27T00:00:00",
          "2014-10-04T00:00:00",
          "2014-10-11T00:00:00",
          "2014-10-18T00:00:00",
          "2014-10-25T00:00:00",
          "2014-11-01T00:00:00",
          "2014-11-08T00:00:00",
          "2014-11-15T00:00:00",
          "2014-11-22T00:00:00",
          "2014-11-29T00:00:00",
          "2014-12-06T00:00:00",
          "2014-12-13T00:00:00",
          "2014-12-20T00:00:00",
          "2014-12-27T00:00:00",
          "2015-01-03T00:00:00",
          "2015-01-10T00:00:00",
          "2015-01-17T00:00:00",
          "2015-01-24T00:00:00",
          "2015-01-31T00:00:00",
          "2015-02-07T00:00:00",
          "2015-02-14T00:00:00",
          "2015-02-21T00:00:00",
          "2015-02-28T00:00:00",
          "2015-03-07T00:00:00",
          "2015-03-14T00:00:00",
          "2015-03-21T00:00:00",
          "2015-03-28T00:00:00",
          "2015-04-04T00:00:00",
          "2015-04-11T00:00:00",
          "2015-04-18T00:00:00",
          "2015-04-25T00:00:00",
          "2015-05-02T00:00:00",
          "2015-05-09T00:00:00",
          "2015-05-16T00:00:00",
          "2015-05-23T00:00:00",
          "2015-05-30T00:00:00",
          "2015-06-06T00:00:00",
          "2015-06-13T00:00:00",
          "2015-06-20T00:00:00",
          "2015-06-27T00:00:00",
          "2015-07-04T00:00:00",
          "2015-07-11T00:00:00",
          "2015-07-18T00:00:00",
          "2015-07-25T00:00:00",
          "2015-08-01T00:00:00",
          "2015-08-08T00:00:00",
          "2015-08-15T00:00:00",
          "2015-08-22T00:00:00",
          "2015-08-29T00:00:00",
          "2015-09-05T00:00:00",
          "2015-09-12T00:00:00",
          "2015-09-19T00:00:00",
          "2015-09-26T00:00:00",
          "2015-10-03T00:00:00",
          "2015-10-10T00:00:00",
          "2015-10-17T00:00:00",
          "2015-10-24T00:00:00",
          "2015-10-31T00:00:00",
          "2015-11-07T00:00:00",
          "2015-11-14T00:00:00",
          "2015-11-21T00:00:00",
          "2015-11-28T00:00:00",
          "2015-12-05T00:00:00",
          "2015-12-12T00:00:00",
          "2015-12-19T00:00:00",
          "2015-12-26T00:00:00",
          "2016-01-02T00:00:00",
          "2016-01-09T00:00:00",
          "2016-01-16T00:00:00",
          "2016-01-23T00:00:00",
          "2016-01-30T00:00:00",
          "2016-02-06T00:00:00",
          "2016-02-13T00:00:00",
          "2016-02-20T00:00:00",
          "2016-02-27T00:00:00",
          "2016-03-05T00:00:00",
          "2016-03-12T00:00:00",
          "2016-03-19T00:00:00",
          "2016-03-26T00:00:00",
          "2016-04-02T00:00:00",
          "2016-04-09T00:00:00",
          "2016-04-16T00:00:00",
          "2016-04-23T00:00:00",
          "2016-04-30T00:00:00",
          "2016-05-07T00:00:00",
          "2016-05-14T00:00:00",
          "2016-05-21T00:00:00",
          "2016-05-28T00:00:00",
          "2016-06-04T00:00:00",
          "2016-06-11T00:00:00",
          "2016-06-18T00:00:00",
          "2016-06-25T00:00:00",
          "2016-07-02T00:00:00",
          "2016-07-09T00:00:00",
          "2016-07-16T00:00:00",
          "2016-07-23T00:00:00",
          "2016-07-30T00:00:00",
          "2016-08-06T00:00:00",
          "2016-08-13T00:00:00",
          "2016-08-20T00:00:00",
          "2016-08-27T00:00:00",
          "2016-09-03T00:00:00",
          "2016-09-10T00:00:00",
          "2016-09-17T00:00:00",
          "2016-09-24T00:00:00",
          "2016-10-01T00:00:00",
          "2016-10-08T00:00:00",
          "2016-10-15T00:00:00",
          "2016-10-22T00:00:00",
          "2016-10-29T00:00:00",
          "2016-11-05T00:00:00",
          "2016-11-12T00:00:00",
          "2016-11-19T00:00:00",
          "2016-11-26T00:00:00",
          "2016-12-03T00:00:00",
          "2016-12-10T00:00:00",
          "2016-12-17T00:00:00",
          "2016-12-24T00:00:00",
          "2016-12-31T00:00:00",
          "2017-01-07T00:00:00",
          "2017-01-14T00:00:00",
          "2017-01-21T00:00:00",
          "2017-01-28T00:00:00",
          "2017-02-04T00:00:00",
          "2017-02-11T00:00:00",
          "2017-02-18T00:00:00",
          "2017-02-25T00:00:00",
          "2017-03-04T00:00:00",
          "2017-03-11T00:00:00",
          "2017-03-18T00:00:00",
          "2017-03-25T00:00:00",
          "2017-04-01T00:00:00",
          "2017-04-08T00:00:00",
          "2017-04-15T00:00:00",
          "2017-04-22T00:00:00",
          "2017-04-29T00:00:00",
          "2017-05-06T00:00:00",
          "2017-05-13T00:00:00",
          "2017-05-20T00:00:00",
          "2017-05-27T00:00:00",
          "2017-06-03T00:00:00",
          "2017-06-10T00:00:00",
          "2017-06-17T00:00:00",
          "2017-06-24T00:00:00",
          "2017-07-01T00:00:00",
          "2017-07-08T00:00:00",
          "2017-07-15T00:00:00",
          "2017-07-22T00:00:00",
          "2017-07-29T00:00:00",
          "2017-08-05T00:00:00",
          "2017-08-12T00:00:00",
          "2017-08-19T00:00:00",
          "2017-08-26T00:00:00",
          "2017-09-02T00:00:00",
          "2017-09-09T00:00:00",
          "2017-09-16T00:00:00",
          "2017-09-23T00:00:00",
          "2017-09-30T00:00:00"
         ],
         "xaxis": "x",
         "y": [
          9970.080026768721,
          6571.632301572568,
          15447.596587110573,
          14477.45464289586,
          11717.729198136105,
          9754.867733074505,
          9237.129620719934,
          7429.84373231931,
          6687.147774666348,
          7944.42226464199,
          9013.005059392983,
          9146.856659595887,
          10127.027388929164,
          12645.321573713902,
          12982.87606356609,
          16056.778491126266,
          16452.84708307828,
          19721.930795357977,
          20089.10635715744,
          21847.499013680525,
          18784.417964332166,
          18570.506079118255,
          17419.813534922414,
          17275.091268816952,
          19572.301821478108,
          18756.73981266764,
          22299.961695894763,
          26977.078220303265,
          23864.13339757949,
          20145.272022482193,
          19258.709202785434,
          19139.234993433478,
          17687.515748884813,
          14468.869692034623,
          13347.316669229494,
          13298.912928871741,
          13487.301480575008,
          23119.989657321476,
          20438.69861307181,
          13077.513899731632,
          14497.151358143465,
          17062.415636684174,
          17078.29264076452,
          14398.939778017646,
          17076.57120891797,
          16936.95026114924,
          13395.65791329177,
          14103.19553785028,
          10372.926051075206,
          9945.295754675379,
          10688.009274364218,
          12255.508372252008,
          10943.12642594239,
          7511.200815906316,
          14626.80121278141,
          13967.995233639916,
          10730.222773987332,
          10885.07765873251,
          10993.527220116126,
          9133.193934047926,
          8108.052221525543,
          10081.041493832508,
          10181.168829182867,
          10310.543927154295,
          11231.839701432062,
          11490.125949912339,
          13997.669273603891,
          15715.96399039627,
          19160.413744398367,
          20720.739787237035,
          22642.128933161788,
          23263.906693491776,
          16160.251118137947,
          20917.983145076356,
          22714.798112351087,
          20057.202740128472,
          22517.08211283484,
          17195.39405253325,
          23359.048299294842,
          29790.875765345634,
          31125.301521344572,
          23071.202507786584,
          23176.835138032526,
          23703.25399894677,
          24665.700330511074,
          24712.287073975887,
          19462.600049930224,
          23668.15789692255,
          14969.773213281242,
          13044.684187152496,
          13212.601058555189,
          14777.601107227483,
          15639.82058067259,
          24647.05606677546,
          17356.952373697208,
          16981.97685761614,
          13927.379514493507,
          19163.118728270732,
          17233.56505051497,
          12147.801040084376,
          12121.25096195314,
          13942.41922552554,
          14138.435652858809,
          14539.747740719806,
          13064.543106861498,
          9346.35930776728,
          15176.789661532539,
          14404.302065916248,
          12217.813081863298,
          10962.545758043607,
          10396.014015137343,
          9038.805747957624,
          9482.167652761149,
          9448.90377974494,
          9752.842652424835,
          10817.46785180567,
          14201.11703045801,
          13165.722154105795,
          16795.605607797937,
          17697.11064161985,
          22855.535701002435,
          23814.566377278028,
          26803.86015795305,
          27131.578220836513,
          25677.47343943988,
          21301.808950297233,
          20086.016021728687,
          21990.41026905154,
          22650.516341555496,
          22428.457116260746,
          25168.703238312744,
          32868.46595750254,
          30004.491646955055,
          28173.327418664263,
          26141.331312705963,
          31501.74718421331,
          25994.170777915322,
          28522.577868043085,
          20341.27398607819,
          28478.409707932045,
          21290.579277528705,
          19828.77436851926,
          27783.25636484745,
          18472.52452770684,
          17524.935358608785,
          19481.34938404676,
          18930.071269422755,
          17402.57386640879,
          14138.860695185116,
          12951.852120138445,
          11110.555204724784,
          12573.198157396033,
          13547.045599117566,
          12011.67536138312,
          13466.730084831184,
          14851.599692062371,
          13960.820060062071,
          11596.086776310667,
          37354.74814623541,
          36976.02588872418,
          28175.242305535136,
          23332.498837511983,
          22122.360613867808,
          27154.00551997603,
          20820.237567670396,
          20407.208397440714,
          23578.06808062851,
          22039.12661069246,
          23046.234446454244,
          27498.205969242295,
          33444.305278605556,
          46591.19471678081,
          45194.16109716222,
          41567.867268625894,
          44778.56984569582,
          48961.61132149962,
          46777.79832088054,
          42043.13923226024,
          40408.67715527564,
          52985.78121762523,
          48859.5126208248,
          55753.92328311772,
          54402.57858485037,
          63514.480069819234,
          67502.45406001048,
          67467.3450347227,
          55531.62225712467,
          58808.94956425705,
          61943.94894645956,
          48801.97266904667,
          41706.8582257913,
          31207.500168945237,
          31195.322144046684,
          30692.866629492168,
          41075.043855594326,
          31608.958305313237,
          34327.63007928758,
          37602.638728376136,
          40482.42701559066,
          35044.8866391153,
          33787.567685936105,
          34109.81705354551,
          35526.764881849005,
          23276.523681037703,
          23163.243446325272,
          23454.305861694316,
          22931.743879105117,
          24906.955143149564,
          30044.36170386156,
          18905.469366408957,
          9063.4429753127,
          15822.878443843463,
          16423.270898898325,
          11938.493395215868,
          11874.404753363095,
          11997.437467886724,
          10820.295700174865,
          9576.249160328218,
          12426.476566058413,
          11846.559582823842,
          12258.647048619718,
          13705.294503146552,
          17851.657411824755,
          19867.01456893375,
          23693.280780709065,
          19445.859140883847,
          21061.82498134217,
          20302.02425567396,
          19934.740012063892,
          22563.290000600733,
          25174.775375766298,
          23984.945436036647,
          23186.746247802323,
          24045.986847441498,
          20802.861079954295,
          29792.276875871496,
          29808.450622125685,
          30587.786132989397,
          28885.58466115621,
          32296.477211128404,
          30921.617804308742,
          32818.04834736207,
          22725.83808087469,
          16883.79697813533,
          19101.56385773611,
          23680.25498201147,
          27467.62320223159,
          17485.590556427545,
          15742.262301703153
         ],
         "yaxis": "y"
        }
       ],
       "layout": {
        "legend": {
         "tracegroupgap": 0
        },
        "template": {
         "data": {
          "bar": [
           {
            "error_x": {
             "color": "#2a3f5f"
            },
            "error_y": {
             "color": "#2a3f5f"
            },
            "marker": {
             "line": {
              "color": "#E5ECF6",
              "width": 0.5
             },
             "pattern": {
              "fillmode": "overlay",
              "size": 10,
              "solidity": 0.2
             }
            },
            "type": "bar"
           }
          ],
          "barpolar": [
           {
            "marker": {
             "line": {
              "color": "#E5ECF6",
              "width": 0.5
             },
             "pattern": {
              "fillmode": "overlay",
              "size": 10,
              "solidity": 0.2
             }
            },
            "type": "barpolar"
           }
          ],
          "carpet": [
           {
            "aaxis": {
             "endlinecolor": "#2a3f5f",
             "gridcolor": "white",
             "linecolor": "white",
             "minorgridcolor": "white",
             "startlinecolor": "#2a3f5f"
            },
            "baxis": {
             "endlinecolor": "#2a3f5f",
             "gridcolor": "white",
             "linecolor": "white",
             "minorgridcolor": "white",
             "startlinecolor": "#2a3f5f"
            },
            "type": "carpet"
           }
          ],
          "choropleth": [
           {
            "colorbar": {
             "outlinewidth": 0,
             "ticks": ""
            },
            "type": "choropleth"
           }
          ],
          "contour": [
           {
            "colorbar": {
             "outlinewidth": 0,
             "ticks": ""
            },
            "colorscale": [
             [
              0,
              "#0d0887"
             ],
             [
              0.1111111111111111,
              "#46039f"
             ],
             [
              0.2222222222222222,
              "#7201a8"
             ],
             [
              0.3333333333333333,
              "#9c179e"
             ],
             [
              0.4444444444444444,
              "#bd3786"
             ],
             [
              0.5555555555555556,
              "#d8576b"
             ],
             [
              0.6666666666666666,
              "#ed7953"
             ],
             [
              0.7777777777777778,
              "#fb9f3a"
             ],
             [
              0.8888888888888888,
              "#fdca26"
             ],
             [
              1,
              "#f0f921"
             ]
            ],
            "type": "contour"
           }
          ],
          "contourcarpet": [
           {
            "colorbar": {
             "outlinewidth": 0,
             "ticks": ""
            },
            "type": "contourcarpet"
           }
          ],
          "heatmap": [
           {
            "colorbar": {
             "outlinewidth": 0,
             "ticks": ""
            },
            "colorscale": [
             [
              0,
              "#0d0887"
             ],
             [
              0.1111111111111111,
              "#46039f"
             ],
             [
              0.2222222222222222,
              "#7201a8"
             ],
             [
              0.3333333333333333,
              "#9c179e"
             ],
             [
              0.4444444444444444,
              "#bd3786"
             ],
             [
              0.5555555555555556,
              "#d8576b"
             ],
             [
              0.6666666666666666,
              "#ed7953"
             ],
             [
              0.7777777777777778,
              "#fb9f3a"
             ],
             [
              0.8888888888888888,
              "#fdca26"
             ],
             [
              1,
              "#f0f921"
             ]
            ],
            "type": "heatmap"
           }
          ],
          "heatmapgl": [
           {
            "colorbar": {
             "outlinewidth": 0,
             "ticks": ""
            },
            "colorscale": [
             [
              0,
              "#0d0887"
             ],
             [
              0.1111111111111111,
              "#46039f"
             ],
             [
              0.2222222222222222,
              "#7201a8"
             ],
             [
              0.3333333333333333,
              "#9c179e"
             ],
             [
              0.4444444444444444,
              "#bd3786"
             ],
             [
              0.5555555555555556,
              "#d8576b"
             ],
             [
              0.6666666666666666,
              "#ed7953"
             ],
             [
              0.7777777777777778,
              "#fb9f3a"
             ],
             [
              0.8888888888888888,
              "#fdca26"
             ],
             [
              1,
              "#f0f921"
             ]
            ],
            "type": "heatmapgl"
           }
          ],
          "histogram": [
           {
            "marker": {
             "pattern": {
              "fillmode": "overlay",
              "size": 10,
              "solidity": 0.2
             }
            },
            "type": "histogram"
           }
          ],
          "histogram2d": [
           {
            "colorbar": {
             "outlinewidth": 0,
             "ticks": ""
            },
            "colorscale": [
             [
              0,
              "#0d0887"
             ],
             [
              0.1111111111111111,
              "#46039f"
             ],
             [
              0.2222222222222222,
              "#7201a8"
             ],
             [
              0.3333333333333333,
              "#9c179e"
             ],
             [
              0.4444444444444444,
              "#bd3786"
             ],
             [
              0.5555555555555556,
              "#d8576b"
             ],
             [
              0.6666666666666666,
              "#ed7953"
             ],
             [
              0.7777777777777778,
              "#fb9f3a"
             ],
             [
              0.8888888888888888,
              "#fdca26"
             ],
             [
              1,
              "#f0f921"
             ]
            ],
            "type": "histogram2d"
           }
          ],
          "histogram2dcontour": [
           {
            "colorbar": {
             "outlinewidth": 0,
             "ticks": ""
            },
            "colorscale": [
             [
              0,
              "#0d0887"
             ],
             [
              0.1111111111111111,
              "#46039f"
             ],
             [
              0.2222222222222222,
              "#7201a8"
             ],
             [
              0.3333333333333333,
              "#9c179e"
             ],
             [
              0.4444444444444444,
              "#bd3786"
             ],
             [
              0.5555555555555556,
              "#d8576b"
             ],
             [
              0.6666666666666666,
              "#ed7953"
             ],
             [
              0.7777777777777778,
              "#fb9f3a"
             ],
             [
              0.8888888888888888,
              "#fdca26"
             ],
             [
              1,
              "#f0f921"
             ]
            ],
            "type": "histogram2dcontour"
           }
          ],
          "mesh3d": [
           {
            "colorbar": {
             "outlinewidth": 0,
             "ticks": ""
            },
            "type": "mesh3d"
           }
          ],
          "parcoords": [
           {
            "line": {
             "colorbar": {
              "outlinewidth": 0,
              "ticks": ""
             }
            },
            "type": "parcoords"
           }
          ],
          "pie": [
           {
            "automargin": true,
            "type": "pie"
           }
          ],
          "scatter": [
           {
            "fillpattern": {
             "fillmode": "overlay",
             "size": 10,
             "solidity": 0.2
            },
            "type": "scatter"
           }
          ],
          "scatter3d": [
           {
            "line": {
             "colorbar": {
              "outlinewidth": 0,
              "ticks": ""
             }
            },
            "marker": {
             "colorbar": {
              "outlinewidth": 0,
              "ticks": ""
             }
            },
            "type": "scatter3d"
           }
          ],
          "scattercarpet": [
           {
            "marker": {
             "colorbar": {
              "outlinewidth": 0,
              "ticks": ""
             }
            },
            "type": "scattercarpet"
           }
          ],
          "scattergeo": [
           {
            "marker": {
             "colorbar": {
              "outlinewidth": 0,
              "ticks": ""
             }
            },
            "type": "scattergeo"
           }
          ],
          "scattergl": [
           {
            "marker": {
             "colorbar": {
              "outlinewidth": 0,
              "ticks": ""
             }
            },
            "type": "scattergl"
           }
          ],
          "scattermapbox": [
           {
            "marker": {
             "colorbar": {
              "outlinewidth": 0,
              "ticks": ""
             }
            },
            "type": "scattermapbox"
           }
          ],
          "scatterpolar": [
           {
            "marker": {
             "colorbar": {
              "outlinewidth": 0,
              "ticks": ""
             }
            },
            "type": "scatterpolar"
           }
          ],
          "scatterpolargl": [
           {
            "marker": {
             "colorbar": {
              "outlinewidth": 0,
              "ticks": ""
             }
            },
            "type": "scatterpolargl"
           }
          ],
          "scatterternary": [
           {
            "marker": {
             "colorbar": {
              "outlinewidth": 0,
              "ticks": ""
             }
            },
            "type": "scatterternary"
           }
          ],
          "surface": [
           {
            "colorbar": {
             "outlinewidth": 0,
             "ticks": ""
            },
            "colorscale": [
             [
              0,
              "#0d0887"
             ],
             [
              0.1111111111111111,
              "#46039f"
             ],
             [
              0.2222222222222222,
              "#7201a8"
             ],
             [
              0.3333333333333333,
              "#9c179e"
             ],
             [
              0.4444444444444444,
              "#bd3786"
             ],
             [
              0.5555555555555556,
              "#d8576b"
             ],
             [
              0.6666666666666666,
              "#ed7953"
             ],
             [
              0.7777777777777778,
              "#fb9f3a"
             ],
             [
              0.8888888888888888,
              "#fdca26"
             ],
             [
              1,
              "#f0f921"
             ]
            ],
            "type": "surface"
           }
          ],
          "table": [
           {
            "cells": {
             "fill": {
              "color": "#EBF0F8"
             },
             "line": {
              "color": "white"
             }
            },
            "header": {
             "fill": {
              "color": "#C8D4E3"
             },
             "line": {
              "color": "white"
             }
            },
            "type": "table"
           }
          ]
         },
         "layout": {
          "annotationdefaults": {
           "arrowcolor": "#2a3f5f",
           "arrowhead": 0,
           "arrowwidth": 1
          },
          "autotypenumbers": "strict",
          "coloraxis": {
           "colorbar": {
            "outlinewidth": 0,
            "ticks": ""
           }
          },
          "colorscale": {
           "diverging": [
            [
             0,
             "#8e0152"
            ],
            [
             0.1,
             "#c51b7d"
            ],
            [
             0.2,
             "#de77ae"
            ],
            [
             0.3,
             "#f1b6da"
            ],
            [
             0.4,
             "#fde0ef"
            ],
            [
             0.5,
             "#f7f7f7"
            ],
            [
             0.6,
             "#e6f5d0"
            ],
            [
             0.7,
             "#b8e186"
            ],
            [
             0.8,
             "#7fbc41"
            ],
            [
             0.9,
             "#4d9221"
            ],
            [
             1,
             "#276419"
            ]
           ],
           "sequential": [
            [
             0,
             "#0d0887"
            ],
            [
             0.1111111111111111,
             "#46039f"
            ],
            [
             0.2222222222222222,
             "#7201a8"
            ],
            [
             0.3333333333333333,
             "#9c179e"
            ],
            [
             0.4444444444444444,
             "#bd3786"
            ],
            [
             0.5555555555555556,
             "#d8576b"
            ],
            [
             0.6666666666666666,
             "#ed7953"
            ],
            [
             0.7777777777777778,
             "#fb9f3a"
            ],
            [
             0.8888888888888888,
             "#fdca26"
            ],
            [
             1,
             "#f0f921"
            ]
           ],
           "sequentialminus": [
            [
             0,
             "#0d0887"
            ],
            [
             0.1111111111111111,
             "#46039f"
            ],
            [
             0.2222222222222222,
             "#7201a8"
            ],
            [
             0.3333333333333333,
             "#9c179e"
            ],
            [
             0.4444444444444444,
             "#bd3786"
            ],
            [
             0.5555555555555556,
             "#d8576b"
            ],
            [
             0.6666666666666666,
             "#ed7953"
            ],
            [
             0.7777777777777778,
             "#fb9f3a"
            ],
            [
             0.8888888888888888,
             "#fdca26"
            ],
            [
             1,
             "#f0f921"
            ]
           ]
          },
          "colorway": [
           "#636efa",
           "#EF553B",
           "#00cc96",
           "#ab63fa",
           "#FFA15A",
           "#19d3f3",
           "#FF6692",
           "#B6E880",
           "#FF97FF",
           "#FECB52"
          ],
          "font": {
           "color": "#2a3f5f"
          },
          "geo": {
           "bgcolor": "white",
           "lakecolor": "white",
           "landcolor": "#E5ECF6",
           "showlakes": true,
           "showland": true,
           "subunitcolor": "white"
          },
          "hoverlabel": {
           "align": "left"
          },
          "hovermode": "closest",
          "mapbox": {
           "style": "light"
          },
          "paper_bgcolor": "white",
          "plot_bgcolor": "#E5ECF6",
          "polar": {
           "angularaxis": {
            "gridcolor": "white",
            "linecolor": "white",
            "ticks": ""
           },
           "bgcolor": "#E5ECF6",
           "radialaxis": {
            "gridcolor": "white",
            "linecolor": "white",
            "ticks": ""
           }
          },
          "scene": {
           "xaxis": {
            "backgroundcolor": "#E5ECF6",
            "gridcolor": "white",
            "gridwidth": 2,
            "linecolor": "white",
            "showbackground": true,
            "ticks": "",
            "zerolinecolor": "white"
           },
           "yaxis": {
            "backgroundcolor": "#E5ECF6",
            "gridcolor": "white",
            "gridwidth": 2,
            "linecolor": "white",
            "showbackground": true,
            "ticks": "",
            "zerolinecolor": "white"
           },
           "zaxis": {
            "backgroundcolor": "#E5ECF6",
            "gridcolor": "white",
            "gridwidth": 2,
            "linecolor": "white",
            "showbackground": true,
            "ticks": "",
            "zerolinecolor": "white"
           }
          },
          "shapedefaults": {
           "line": {
            "color": "#2a3f5f"
           }
          },
          "ternary": {
           "aaxis": {
            "gridcolor": "white",
            "linecolor": "white",
            "ticks": ""
           },
           "baxis": {
            "gridcolor": "white",
            "linecolor": "white",
            "ticks": ""
           },
           "bgcolor": "#E5ECF6",
           "caxis": {
            "gridcolor": "white",
            "linecolor": "white",
            "ticks": ""
           }
          },
          "title": {
           "x": 0.05
          },
          "xaxis": {
           "automargin": true,
           "gridcolor": "white",
           "linecolor": "white",
           "ticks": "",
           "title": {
            "standoff": 15
           },
           "zerolinecolor": "white",
           "zerolinewidth": 2
          },
          "yaxis": {
           "automargin": true,
           "gridcolor": "white",
           "linecolor": "white",
           "ticks": "",
           "title": {
            "standoff": 15
           },
           "zerolinecolor": "white",
           "zerolinewidth": 2
          }
         }
        },
        "title": {
         "text": "Turnover Evolution Over Time"
        },
        "xaxis": {
         "anchor": "y",
         "domain": [
          0,
          1
         ],
         "title": {
          "text": "Day"
         }
        },
        "yaxis": {
         "anchor": "x",
         "domain": [
          0,
          1
         ],
         "title": {
          "text": "Turnover"
         }
        }
       }
      }
     },
     "metadata": {},
     "output_type": "display_data"
    }
   ],
   "source": [
    "fig = px.line(train_df[(train_df['dpt_num_department']==73)].groupby('day_id', as_index=False).turnover.sum(), x='day_id', y='turnover', title='Turnover Evolution Over Time')\n",
    "\n",
    "fig.update_traces(mode='lines+markers', line=dict(color='blue'))\n",
    "fig.update_layout(xaxis_title='Day', yaxis_title='Turnover')\n",
    "\n",
    "fig.show()"
   ]
  },
  {
   "cell_type": "code",
   "execution_count": 15,
   "metadata": {},
   "outputs": [
    {
     "data": {
      "text/html": [
       "<div>\n",
       "<style scoped>\n",
       "    .dataframe tbody tr th:only-of-type {\n",
       "        vertical-align: middle;\n",
       "    }\n",
       "\n",
       "    .dataframe tbody tr th {\n",
       "        vertical-align: top;\n",
       "    }\n",
       "\n",
       "    .dataframe thead th {\n",
       "        text-align: right;\n",
       "    }\n",
       "</style>\n",
       "<table border=\"1\" class=\"dataframe\">\n",
       "  <thead>\n",
       "    <tr style=\"text-align: right;\">\n",
       "      <th></th>\n",
       "      <th>day_id</th>\n",
       "      <th>but_num_business_unit</th>\n",
       "      <th>dpt_num_department</th>\n",
       "    </tr>\n",
       "  </thead>\n",
       "  <tbody>\n",
       "    <tr>\n",
       "      <th>0</th>\n",
       "      <td>2017-11-25</td>\n",
       "      <td>95</td>\n",
       "      <td>73</td>\n",
       "    </tr>\n",
       "    <tr>\n",
       "      <th>1</th>\n",
       "      <td>2017-11-25</td>\n",
       "      <td>4</td>\n",
       "      <td>117</td>\n",
       "    </tr>\n",
       "    <tr>\n",
       "      <th>2</th>\n",
       "      <td>2017-11-25</td>\n",
       "      <td>113</td>\n",
       "      <td>127</td>\n",
       "    </tr>\n",
       "    <tr>\n",
       "      <th>3</th>\n",
       "      <td>2017-11-25</td>\n",
       "      <td>93</td>\n",
       "      <td>117</td>\n",
       "    </tr>\n",
       "    <tr>\n",
       "      <th>4</th>\n",
       "      <td>2017-11-25</td>\n",
       "      <td>66</td>\n",
       "      <td>127</td>\n",
       "    </tr>\n",
       "    <tr>\n",
       "      <th>...</th>\n",
       "      <td>...</td>\n",
       "      <td>...</td>\n",
       "      <td>...</td>\n",
       "    </tr>\n",
       "    <tr>\n",
       "      <th>10131</th>\n",
       "      <td>2017-10-07</td>\n",
       "      <td>61</td>\n",
       "      <td>88</td>\n",
       "    </tr>\n",
       "    <tr>\n",
       "      <th>10132</th>\n",
       "      <td>2017-10-07</td>\n",
       "      <td>641</td>\n",
       "      <td>117</td>\n",
       "    </tr>\n",
       "    <tr>\n",
       "      <th>10133</th>\n",
       "      <td>2017-10-07</td>\n",
       "      <td>724</td>\n",
       "      <td>117</td>\n",
       "    </tr>\n",
       "    <tr>\n",
       "      <th>10134</th>\n",
       "      <td>2017-10-07</td>\n",
       "      <td>1302</td>\n",
       "      <td>117</td>\n",
       "    </tr>\n",
       "    <tr>\n",
       "      <th>10135</th>\n",
       "      <td>2017-10-07</td>\n",
       "      <td>1126</td>\n",
       "      <td>88</td>\n",
       "    </tr>\n",
       "  </tbody>\n",
       "</table>\n",
       "<p>10136 rows × 3 columns</p>\n",
       "</div>"
      ],
      "text/plain": [
       "           day_id  but_num_business_unit  dpt_num_department\n",
       "0      2017-11-25                     95                  73\n",
       "1      2017-11-25                      4                 117\n",
       "2      2017-11-25                    113                 127\n",
       "3      2017-11-25                     93                 117\n",
       "4      2017-11-25                     66                 127\n",
       "...           ...                    ...                 ...\n",
       "10131  2017-10-07                     61                  88\n",
       "10132  2017-10-07                    641                 117\n",
       "10133  2017-10-07                    724                 117\n",
       "10134  2017-10-07                   1302                 117\n",
       "10135  2017-10-07                   1126                  88\n",
       "\n",
       "[10136 rows x 3 columns]"
      ]
     },
     "execution_count": 15,
     "metadata": {},
     "output_type": "execute_result"
    }
   ],
   "source": [
    "test_df = pd.read_csv('data-test-mle/test_mle/test.csv.gz', nrows=10000000, compression='gzip',)\n",
    "test_df"
   ]
  },
  {
   "cell_type": "code",
   "execution_count": null,
   "metadata": {},
   "outputs": [],
   "source": []
  },
  {
   "cell_type": "code",
   "execution_count": null,
   "metadata": {},
   "outputs": [],
   "source": []
  },
  {
   "cell_type": "code",
   "execution_count": null,
   "metadata": {},
   "outputs": [],
   "source": []
  }
 ],
 "metadata": {
  "kernelspec": {
   "display_name": "Python 3",
   "language": "python",
   "name": "python3"
  },
  "language_info": {
   "codemirror_mode": {
    "name": "ipython",
    "version": 3
   },
   "file_extension": ".py",
   "mimetype": "text/x-python",
   "name": "python",
   "nbconvert_exporter": "python",
   "pygments_lexer": "ipython3",
   "version": "3.11.5"
  }
 },
 "nbformat": 4,
 "nbformat_minor": 2
}
