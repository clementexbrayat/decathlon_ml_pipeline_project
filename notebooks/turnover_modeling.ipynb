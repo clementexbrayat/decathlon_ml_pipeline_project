{
 "cells": [
  {
   "cell_type": "code",
   "execution_count": 1,
   "metadata": {
    "application/vnd.databricks.v1+cell": {
     "cellMetadata": {
      "byteLimit": 2048000,
      "rowLimit": 10000
     },
     "inputWidgets": {},
     "nuid": "1be3b194-b34e-49ef-ab04-2931f85c14ee",
     "showTitle": false,
     "title": ""
    }
   },
   "outputs": [
    {
     "name": "stdout",
     "output_type": "stream",
     "text": [
      "Requirement already satisfied: pandas in c:\\users\\cexbrayat\\appdata\\local\\anaconda3\\lib\\site-packages (2.0.3)\n",
      "Requirement already satisfied: python-dateutil>=2.8.2 in c:\\users\\cexbrayat\\appdata\\local\\anaconda3\\lib\\site-packages (from pandas) (2.8.2)\n",
      "Requirement already satisfied: pytz>=2020.1 in c:\\users\\cexbrayat\\appdata\\local\\anaconda3\\lib\\site-packages (from pandas) (2023.3.post1)\n",
      "Requirement already satisfied: tzdata>=2022.1 in c:\\users\\cexbrayat\\appdata\\local\\anaconda3\\lib\\site-packages (from pandas) (2023.3)\n",
      "Requirement already satisfied: numpy>=1.21.0 in c:\\users\\cexbrayat\\appdata\\local\\anaconda3\\lib\\site-packages (from pandas) (1.24.3)\n",
      "Requirement already satisfied: six>=1.5 in c:\\users\\cexbrayat\\appdata\\local\\anaconda3\\lib\\site-packages (from python-dateutil>=2.8.2->pandas) (1.16.0)\n",
      "Note: you may need to restart the kernel to use updated packages.\n",
      "Requirement already satisfied: scikit-learn in c:\\users\\cexbrayat\\appdata\\local\\anaconda3\\lib\\site-packages (1.3.0)Note: you may need to restart the kernel to use updated packages.\n",
      "\n",
      "Requirement already satisfied: numpy>=1.17.3 in c:\\users\\cexbrayat\\appdata\\local\\anaconda3\\lib\\site-packages (from scikit-learn) (1.24.3)\n",
      "Requirement already satisfied: scipy>=1.5.0 in c:\\users\\cexbrayat\\appdata\\local\\anaconda3\\lib\\site-packages (from scikit-learn) (1.11.1)\n",
      "Requirement already satisfied: joblib>=1.1.1 in c:\\users\\cexbrayat\\appdata\\local\\anaconda3\\lib\\site-packages (from scikit-learn) (1.2.0)\n",
      "Requirement already satisfied: threadpoolctl>=2.0.0 in c:\\users\\cexbrayat\\appdata\\local\\anaconda3\\lib\\site-packages (from scikit-learn) (2.2.0)\n",
      "Collecting xgboost\n",
      "  Obtaining dependency information for xgboost from https://files.pythonhosted.org/packages/e2/7b/8c1b410cd0604cee9a167a19f7e1746f5b92ae7d02ad574ab560b73c5a48/xgboost-2.1.1-py3-none-win_amd64.whl.metadata\n",
      "  Downloading xgboost-2.1.1-py3-none-win_amd64.whl.metadata (2.1 kB)\n",
      "Requirement already satisfied: numpy in c:\\users\\cexbrayat\\appdata\\local\\anaconda3\\lib\\site-packages (from xgboost) (1.24.3)\n",
      "Requirement already satisfied: scipy in c:\\users\\cexbrayat\\appdata\\local\\anaconda3\\lib\\site-packages (from xgboost) (1.11.1)\n",
      "Downloading xgboost-2.1.1-py3-none-win_amd64.whl (124.9 MB)\n",
      "   ---------------------------------------- 0.0/124.9 MB ? eta -:--:--\n",
      "   ---------------------------------------- 0.0/124.9 MB ? eta -:--:--\n",
      "   ---------------------------------------- 0.0/124.9 MB 217.9 kB/s eta 0:09:34\n",
      "   ---------------------------------------- 0.1/124.9 MB 469.7 kB/s eta 0:04:26\n",
      "   ---------------------------------------- 0.2/124.9 MB 1.1 MB/s eta 0:01:59\n",
      "   ---------------------------------------- 0.6/124.9 MB 2.7 MB/s eta 0:00:46\n",
      "    --------------------------------------- 1.8/124.9 MB 7.3 MB/s eta 0:00:17\n",
      "   - -------------------------------------- 3.5/124.9 MB 11.3 MB/s eta 0:00:11\n",
      "   - -------------------------------------- 5.3/124.9 MB 15.3 MB/s eta 0:00:08\n",
      "   -- ------------------------------------- 6.7/124.9 MB 17.0 MB/s eta 0:00:07\n",
      "   -- ------------------------------------- 8.0/124.9 MB 18.2 MB/s eta 0:00:07\n",
      "   -- ------------------------------------- 8.8/124.9 MB 18.6 MB/s eta 0:00:07\n",
      "   -- ------------------------------------- 8.8/124.9 MB 18.6 MB/s eta 0:00:07\n",
      "   --- ------------------------------------ 10.8/124.9 MB 28.5 MB/s eta 0:00:05\n",
      "   ---- ----------------------------------- 13.8/124.9 MB 32.8 MB/s eta 0:00:04\n",
      "   ---- ----------------------------------- 15.0/124.9 MB 32.8 MB/s eta 0:00:04\n",
      "   ----- ---------------------------------- 16.9/124.9 MB 32.8 MB/s eta 0:00:04\n",
      "   ----- ---------------------------------- 18.7/124.9 MB 34.4 MB/s eta 0:00:04\n",
      "   ------ --------------------------------- 20.6/124.9 MB 40.9 MB/s eta 0:00:03\n",
      "   ------ --------------------------------- 21.9/124.9 MB 38.5 MB/s eta 0:00:03\n",
      "   ------- -------------------------------- 23.3/124.9 MB 34.4 MB/s eta 0:00:03\n",
      "   ------- -------------------------------- 24.9/124.9 MB 34.4 MB/s eta 0:00:03\n",
      "   ------- -------------------------------- 24.9/124.9 MB 31.2 MB/s eta 0:00:04\n",
      "   -------- ------------------------------- 25.8/124.9 MB 29.7 MB/s eta 0:00:04\n",
      "   -------- ------------------------------- 25.8/124.9 MB 29.7 MB/s eta 0:00:04\n",
      "   --------- ------------------------------ 28.1/124.9 MB 26.2 MB/s eta 0:00:04\n",
      "   --------- ------------------------------ 29.4/124.9 MB 26.2 MB/s eta 0:00:04\n",
      "   --------- ------------------------------ 30.8/124.9 MB 25.2 MB/s eta 0:00:04\n",
      "   ---------- ----------------------------- 32.3/124.9 MB 26.2 MB/s eta 0:00:04\n",
      "   ---------- ----------------------------- 34.3/124.9 MB 27.3 MB/s eta 0:00:04\n",
      "   ----------- ---------------------------- 35.7/124.9 MB 31.2 MB/s eta 0:00:03\n",
      "   ----------- ---------------------------- 37.3/124.9 MB 36.4 MB/s eta 0:00:03\n",
      "   ------------ --------------------------- 38.8/124.9 MB 34.4 MB/s eta 0:00:03\n",
      "   ------------ --------------------------- 40.4/124.9 MB 34.6 MB/s eta 0:00:03\n",
      "   ------------- -------------------------- 42.1/124.9 MB 38.5 MB/s eta 0:00:03\n",
      "   ------------- -------------------------- 43.7/124.9 MB 34.4 MB/s eta 0:00:03\n",
      "   -------------- ------------------------- 45.6/124.9 MB 36.4 MB/s eta 0:00:03\n",
      "   --------------- ------------------------ 47.2/124.9 MB 36.4 MB/s eta 0:00:03\n",
      "   --------------- ------------------------ 49.0/124.9 MB 38.6 MB/s eta 0:00:02\n",
      "   ---------------- ----------------------- 51.0/124.9 MB 38.5 MB/s eta 0:00:02\n",
      "   ----------------- ---------------------- 53.1/124.9 MB 40.9 MB/s eta 0:00:02\n",
      "   ----------------- ---------------------- 54.7/124.9 MB 40.9 MB/s eta 0:00:02\n",
      "   ------------------ --------------------- 56.7/124.9 MB 40.9 MB/s eta 0:00:02\n",
      "   ------------------ --------------------- 58.2/124.9 MB 43.7 MB/s eta 0:00:02\n",
      "   ------------------- -------------------- 60.0/124.9 MB 40.9 MB/s eta 0:00:02\n",
      "   ------------------- -------------------- 61.8/124.9 MB 40.9 MB/s eta 0:00:02\n",
      "   -------------------- ------------------- 63.8/124.9 MB 38.6 MB/s eta 0:00:02\n",
      "   -------------------- ------------------- 65.4/124.9 MB 36.4 MB/s eta 0:00:02\n",
      "   --------------------- ------------------ 67.1/124.9 MB 38.6 MB/s eta 0:00:02\n",
      "   ---------------------- ----------------- 69.1/124.9 MB 40.9 MB/s eta 0:00:02\n",
      "   ---------------------- ----------------- 70.3/124.9 MB 40.9 MB/s eta 0:00:02\n",
      "   ----------------------- ---------------- 72.0/124.9 MB 38.6 MB/s eta 0:00:02\n",
      "   ----------------------- ---------------- 74.2/124.9 MB 40.9 MB/s eta 0:00:02\n",
      "   ------------------------ --------------- 76.2/124.9 MB 40.9 MB/s eta 0:00:02\n",
      "   ------------------------ --------------- 77.9/124.9 MB 38.5 MB/s eta 0:00:02\n",
      "   ------------------------- -------------- 79.7/124.9 MB 40.9 MB/s eta 0:00:02\n",
      "   -------------------------- ------------- 81.7/124.9 MB 43.5 MB/s eta 0:00:01\n",
      "   -------------------------- ------------- 83.7/124.9 MB 40.9 MB/s eta 0:00:02\n",
      "   --------------------------- ------------ 85.3/124.9 MB 38.5 MB/s eta 0:00:02\n",
      "   --------------------------- ------------ 87.4/124.9 MB 40.9 MB/s eta 0:00:01\n",
      "   ---------------------------- ----------- 88.9/124.9 MB 38.6 MB/s eta 0:00:01\n",
      "   ----------------------------- ---------- 91.1/124.9 MB 40.9 MB/s eta 0:00:01\n",
      "   ----------------------------- ---------- 92.5/124.9 MB 43.7 MB/s eta 0:00:01\n",
      "   ------------------------------ --------- 94.0/124.9 MB 38.5 MB/s eta 0:00:01\n",
      "   ------------------------------ --------- 96.1/124.9 MB 38.5 MB/s eta 0:00:01\n",
      "   ------------------------------- -------- 98.2/124.9 MB 38.5 MB/s eta 0:00:01\n",
      "   ------------------------------- ------- 100.2/124.9 MB 38.6 MB/s eta 0:00:01\n",
      "   ------------------------------- ------- 101.8/124.9 MB 38.6 MB/s eta 0:00:01\n",
      "   -------------------------------- ------ 104.1/124.9 MB 43.7 MB/s eta 0:00:01\n",
      "   --------------------------------- ----- 106.1/124.9 MB 46.9 MB/s eta 0:00:01\n",
      "   --------------------------------- ----- 108.1/124.9 MB 43.7 MB/s eta 0:00:01\n",
      "   ---------------------------------- ---- 110.1/124.9 MB 40.9 MB/s eta 0:00:01\n",
      "   ---------------------------------- ---- 112.0/124.9 MB 43.7 MB/s eta 0:00:01\n",
      "   ----------------------------------- --- 113.7/124.9 MB 43.7 MB/s eta 0:00:01\n",
      "   ------------------------------------ -- 115.8/124.9 MB 40.9 MB/s eta 0:00:01\n",
      "   ------------------------------------ -- 117.8/124.9 MB 43.5 MB/s eta 0:00:01\n",
      "   ------------------------------------- - 119.8/124.9 MB 43.5 MB/s eta 0:00:01\n",
      "   --------------------------------------  121.8/124.9 MB 43.7 MB/s eta 0:00:01\n",
      "   --------------------------------------  123.6/124.9 MB 43.7 MB/s eta 0:00:01\n",
      "   --------------------------------------  124.9/124.9 MB 40.9 MB/s eta 0:00:01\n",
      "   --------------------------------------  124.9/124.9 MB 40.9 MB/s eta 0:00:01\n",
      "   --------------------------------------  124.9/124.9 MB 40.9 MB/s eta 0:00:01\n",
      "   --------------------------------------  124.9/124.9 MB 40.9 MB/s eta 0:00:01\n",
      "   --------------------------------------  124.9/124.9 MB 40.9 MB/s eta 0:00:01\n",
      "   --------------------------------------  124.9/124.9 MB 40.9 MB/s eta 0:00:01\n",
      "   --------------------------------------  124.9/124.9 MB 40.9 MB/s eta 0:00:01\n",
      "   --------------------------------------  124.9/124.9 MB 40.9 MB/s eta 0:00:01\n",
      "   --------------------------------------  124.9/124.9 MB 40.9 MB/s eta 0:00:01\n",
      "   --------------------------------------- 124.9/124.9 MB 13.6 MB/s eta 0:00:00\n",
      "Installing collected packages: xgboost\n",
      "Successfully installed xgboost-2.1.1\n",
      "Note: you may need to restart the kernel to use updated packages.\n"
     ]
    }
   ],
   "source": [
    "%pip install pandas\n",
    "%pip install scikit-learn\n",
    "%pip install xgboost"
   ]
  },
  {
   "cell_type": "code",
   "execution_count": 2,
   "metadata": {
    "application/vnd.databricks.v1+cell": {
     "cellMetadata": {
      "byteLimit": 2048000,
      "rowLimit": 10000
     },
     "inputWidgets": {},
     "nuid": "13f84f98-89c8-44b7-b548-36fe30ff7557",
     "showTitle": false,
     "title": ""
    }
   },
   "outputs": [],
   "source": [
    "import pandas as pd\n",
    "import numpy as np\n",
    "\n",
    "\n",
    "from sklearn.preprocessing import OneHotEncoder, StandardScaler\n",
    "from sklearn.compose import ColumnTransformer\n",
    "from sklearn.pipeline import Pipeline\n",
    "\n",
    "from sklearn.metrics import mean_absolute_error\n",
    "from sklearn.ensemble import GradientBoostingRegressor"
   ]
  },
  {
   "cell_type": "markdown",
   "metadata": {
    "application/vnd.databricks.v1+cell": {
     "cellMetadata": {},
     "inputWidgets": {},
     "nuid": "664cb5e1-da3b-4e1e-a843-e25b9e5f55f4",
     "showTitle": false,
     "title": ""
    }
   },
   "source": [
    "## Data loading"
   ]
  },
  {
   "cell_type": "code",
   "execution_count": 6,
   "metadata": {
    "application/vnd.databricks.v1+cell": {
     "cellMetadata": {
      "byteLimit": 2048000,
      "rowLimit": 10000
     },
     "inputWidgets": {},
     "nuid": "03ab2d83-47a4-4d2f-872c-a4197c24a450",
     "showTitle": false,
     "title": ""
    }
   },
   "outputs": [],
   "source": [
    "df_bu_feat = pd.read_csv(\"../data/raw/bu_feat.csv.gz\") \n",
    "df_train = pd.read_csv(\"../data/raw/train.csv.gz\") \n",
    "df_test = pd.read_csv(\"../data/raw/test.csv.gz\") "
   ]
  },
  {
   "cell_type": "markdown",
   "metadata": {
    "application/vnd.databricks.v1+cell": {
     "cellMetadata": {},
     "inputWidgets": {},
     "nuid": "ce29f09f-28e7-4816-afff-1fdebabac6e6",
     "showTitle": false,
     "title": ""
    }
   },
   "source": [
    "### Merging features"
   ]
  },
  {
   "cell_type": "code",
   "execution_count": null,
   "metadata": {
    "application/vnd.databricks.v1+cell": {
     "cellMetadata": {
      "byteLimit": 2048000,
      "rowLimit": 10000
     },
     "inputWidgets": {},
     "nuid": "236477e3-522b-47df-8f72-7772e9b3e6f3",
     "showTitle": false,
     "title": ""
    }
   },
   "outputs": [],
   "source": [
    "df_train_feat = pd.merge(df_train, df_bu_feat, how=\"left\", on = \"but_num_business_unit\")\n",
    "df_test_feat = pd.merge(df_test, df_bu_feat, how=\"left\", on = \"but_num_business_unit\")"
   ]
  },
  {
   "cell_type": "markdown",
   "metadata": {
    "application/vnd.databricks.v1+cell": {
     "cellMetadata": {},
     "inputWidgets": {},
     "nuid": "12b10d67-e000-4680-a963-f771b1a70b4c",
     "showTitle": false,
     "title": ""
    }
   },
   "source": [
    "### Split train, val set"
   ]
  },
  {
   "cell_type": "code",
   "execution_count": null,
   "metadata": {
    "application/vnd.databricks.v1+cell": {
     "cellMetadata": {
      "byteLimit": 2048000,
      "rowLimit": 10000
     },
     "inputWidgets": {},
     "nuid": "bbfcc4c6-f417-4784-bf1f-51cd01599d78",
     "showTitle": false,
     "title": ""
    }
   },
   "outputs": [],
   "source": [
    "df_train_feat"
   ]
  },
  {
   "cell_type": "code",
   "execution_count": null,
   "metadata": {
    "application/vnd.databricks.v1+cell": {
     "cellMetadata": {
      "byteLimit": 2048000,
      "rowLimit": 10000
     },
     "inputWidgets": {},
     "nuid": "59bc9752-e95f-413e-9e27-b2ee3b87a4bc",
     "showTitle": false,
     "title": ""
    }
   },
   "outputs": [],
   "source": [
    "# Train and val set\n",
    "\n",
    "df_train_feat[\"day_id\"] = pd.to_datetime(df_train_feat[\"day_id\"])\n",
    "df_train_feat[\"day_id_week\"] = df_train_feat.day_id.dt.isocalendar().week\n",
    "df_train_feat[\"day_id_month\"] = df_train_feat[\"day_id\"].dt.month\n",
    "df_train_feat[\"day_id_year\"] = df_train_feat[\"day_id\"].dt.year\n",
    "\n",
    "df_train = df_train_feat[(df_train_feat.day_id_year < 2017)]\n",
    "df_val = df_train_feat[(df_train_feat.day_id_year == 2017)]\n",
    "\n",
    "y_train = df_train.turnover\n",
    "y_val = df_val.turnover\n",
    "\n",
    "\n"
   ]
  },
  {
   "cell_type": "markdown",
   "metadata": {
    "application/vnd.databricks.v1+cell": {
     "cellMetadata": {},
     "inputWidgets": {},
     "nuid": "321c34f9-f656-4db1-bcc0-af6a1c075a23",
     "showTitle": false,
     "title": ""
    }
   },
   "source": [
    "### Scikit pipeline"
   ]
  },
  {
   "cell_type": "code",
   "execution_count": null,
   "metadata": {
    "application/vnd.databricks.v1+cell": {
     "cellMetadata": {
      "byteLimit": 2048000,
      "rowLimit": 10000
     },
     "inputWidgets": {},
     "nuid": "e06b77c9-5a21-468e-b41a-e2328154a647",
     "showTitle": false,
     "title": ""
    }
   },
   "outputs": [],
   "source": [
    "from sklearn.base import BaseEstimator, TransformerMixin"
   ]
  },
  {
   "cell_type": "code",
   "execution_count": null,
   "metadata": {
    "application/vnd.databricks.v1+cell": {
     "cellMetadata": {
      "byteLimit": 2048000,
      "rowLimit": 10000
     },
     "inputWidgets": {},
     "nuid": "0ab974ff-b611-491e-86cc-ee0e35354147",
     "showTitle": false,
     "title": ""
    }
   },
   "outputs": [],
   "source": [
    "class CustomPreprocressing(BaseEstimator, TransformerMixin):\n",
    "    \"\"\"\n",
    "    This class includes all the steps for the preprocessing\n",
    "    \"\"\"\n",
    "    def __init__(self, cat_cols):\n",
    "        \"\"\"\n",
    "        Initialize the class / Can be empty\n",
    "        \"\"\"\n",
    "        self.cat_cols = cat_cols\n",
    "\n",
    "    def fit(self, X, y=None):\n",
    "        \"\"\"\n",
    "        This method is only created so that the pipeline containing this transformer does not raise an error\n",
    "        \"\"\"\n",
    "        return self\n",
    "\n",
    "    def transform(self, data):\n",
    "        \"\"\"\n",
    "        Inputs :\n",
    "          -- data : DataFrame, DataFrame contening all the data needed for the model\n",
    "        Outputs :\n",
    "          -- DataFrame, DataFrame prepared for modeling\n",
    "\n",
    "        \"\"\"\n",
    "        data[\"day_id\"] = pd.to_datetime(data[\"day_id\"])\n",
    "        data[\"day_id_week\"] = data.day_id.dt.isocalendar().week\n",
    "        data[\"day_id_month\"] = data[\"day_id\"].dt.month\n",
    "        data[\"day_id_year\"] = data[\"day_id\"].dt.year\n",
    "        data[self.cat_cols] = data[self.cat_cols].apply(lambda x: x.astype(str))\n",
    "        return data"
   ]
  },
  {
   "cell_type": "code",
   "execution_count": null,
   "metadata": {
    "application/vnd.databricks.v1+cell": {
     "cellMetadata": {
      "byteLimit": 2048000,
      "rowLimit": 10000
     },
     "inputWidgets": {},
     "nuid": "b7dc549f-5ee7-4adf-99e9-2875daaded53",
     "showTitle": false,
     "title": ""
    }
   },
   "outputs": [],
   "source": [
    "\n",
    "num_attrib = [\"but_latitude\",\"but_longitude\", 'day_id_year']\n",
    "cat_attrib = [\n",
    "            \"day_id_week\",\n",
    "            \"day_id_month\",\n",
    "            \"but_region_idr_region\",\n",
    "            \"zod_idr_zone_dgr\",\n",
    "            \"but_num_business_unit\",\n",
    "            \"dpt_num_department\",\n",
    "        ]\n",
    "\n",
    "num_pipeline = Pipeline([\n",
    "    ('std_scaler', StandardScaler()),\n",
    "])\n",
    "cat_onehot_pipeline = Pipeline([\n",
    "    ('encoder', OneHotEncoder(handle_unknown=\"ignore\")),\n",
    "])\n",
    "preparation_pipeline = ColumnTransformer([\n",
    "    (\"num\",num_pipeline, num_attrib),\n",
    "    (\"cat_onehot\", cat_onehot_pipeline, cat_attrib)\n",
    "])\n",
    "\n",
    "full_pipeline = Pipeline([\n",
    "    ('preprocessing', CustomPreprocressing(cat_cols=cat_attrib )),\n",
    "    ('preparation', preparation_pipeline),\n",
    "    ('model', GradientBoostingRegressor())\n",
    "])"
   ]
  },
  {
   "cell_type": "code",
   "execution_count": null,
   "metadata": {
    "application/vnd.databricks.v1+cell": {
     "cellMetadata": {
      "byteLimit": 2048000,
      "rowLimit": 10000
     },
     "inputWidgets": {},
     "nuid": "1ec04b54-2aae-46a3-9f6a-406470fad589",
     "showTitle": false,
     "title": ""
    }
   },
   "outputs": [],
   "source": [
    "model_final = full_pipeline.fit(df_train, y_train)\n",
    "y_predict_val = model_final.predict(df_val)\n",
    "\n",
    "metric_mae = mean_absolute_error(y_val, y_predict_val)\n",
    "print(metric_mae)"
   ]
  },
  {
   "cell_type": "code",
   "execution_count": null,
   "metadata": {
    "application/vnd.databricks.v1+cell": {
     "cellMetadata": {
      "byteLimit": 2048000,
      "rowLimit": 10000
     },
     "inputWidgets": {},
     "nuid": "df3e747b-6889-4666-8675-52c9a41f560f",
     "showTitle": false,
     "title": ""
    }
   },
   "outputs": [],
   "source": [
    "df_val['dpt_num_department'].unique()"
   ]
  },
  {
   "cell_type": "code",
   "execution_count": null,
   "metadata": {
    "application/vnd.databricks.v1+cell": {
     "cellMetadata": {
      "byteLimit": 2048000,
      "rowLimit": 10000
     },
     "inputWidgets": {},
     "nuid": "1224a8e7-1979-44c9-af9e-465f418f1b6f",
     "showTitle": false,
     "title": ""
    }
   },
   "outputs": [],
   "source": [
    "df_val['prediction'] = y_predict_val\n",
    "filter_ts = lambda x: (x.but_num_business_unit==\"32\") & (x.dpt_num_department=='73')\n",
    "display(df_val[filter_ts])\n",
    "\n",
    "display(df_train[filter_ts])"
   ]
  },
  {
   "cell_type": "code",
   "execution_count": null,
   "metadata": {
    "application/vnd.databricks.v1+cell": {
     "cellMetadata": {
      "byteLimit": 2048000,
      "rowLimit": 10000
     },
     "inputWidgets": {},
     "nuid": "042fcd10-ea1c-4107-8bcc-2e34b99bab42",
     "showTitle": false,
     "title": ""
    }
   },
   "outputs": [],
   "source": [
    "model_final = full_pipeline.fit(df_train_feat, df_train_feat.turnover.values)\n"
   ]
  },
  {
   "cell_type": "code",
   "execution_count": null,
   "metadata": {
    "application/vnd.databricks.v1+cell": {
     "cellMetadata": {
      "byteLimit": 2048000,
      "rowLimit": 10000
     },
     "inputWidgets": {},
     "nuid": "e438e878-649f-4737-af9e-3c4475e42994",
     "showTitle": false,
     "title": ""
    }
   },
   "outputs": [],
   "source": [
    "y_pred = model_final.predict(df_test_feat)"
   ]
  },
  {
   "cell_type": "code",
   "execution_count": null,
   "metadata": {
    "application/vnd.databricks.v1+cell": {
     "cellMetadata": {
      "byteLimit": 2048000,
      "rowLimit": 10000
     },
     "inputWidgets": {},
     "nuid": "766d2042-990a-4565-b49d-eb5a178184b6",
     "showTitle": false,
     "title": ""
    }
   },
   "outputs": [],
   "source": [
    "df_test_feat['prediction'] = y_pred"
   ]
  },
  {
   "cell_type": "code",
   "execution_count": null,
   "metadata": {
    "application/vnd.databricks.v1+cell": {
     "cellMetadata": {
      "byteLimit": 2048000,
      "rowLimit": 10000
     },
     "inputWidgets": {},
     "nuid": "0fa90b0a-510b-4ff2-bf03-17a26a8777bc",
     "showTitle": false,
     "title": ""
    }
   },
   "outputs": [],
   "source": [
    "display(df_test_feat)"
   ]
  },
  {
   "cell_type": "code",
   "execution_count": null,
   "metadata": {
    "application/vnd.databricks.v1+cell": {
     "cellMetadata": {},
     "inputWidgets": {},
     "nuid": "d80acd3f-a253-4355-ab34-023616293741",
     "showTitle": false,
     "title": ""
    }
   },
   "outputs": [],
   "source": []
  }
 ],
 "metadata": {
  "application/vnd.databricks.v1+notebook": {
   "dashboards": [],
   "language": "python",
   "notebookMetadata": {
    "mostRecentlyExecutedCommandWithImplicitDF": {
     "commandId": 3831762386545963,
     "dataframes": [
      "_sqldf"
     ]
    },
    "pythonIndentUnit": 4
   },
   "notebookName": "Baseline notebook",
   "widgets": {}
  },
  "kernelspec": {
   "display_name": "base",
   "language": "python",
   "name": "python3"
  },
  "language_info": {
   "codemirror_mode": {
    "name": "ipython",
    "version": 3
   },
   "file_extension": ".py",
   "mimetype": "text/x-python",
   "name": "python",
   "nbconvert_exporter": "python",
   "pygments_lexer": "ipython3",
   "version": "3.11.5"
  }
 },
 "nbformat": 4,
 "nbformat_minor": 0
}
